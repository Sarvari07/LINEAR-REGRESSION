{
 "cells": [
  {
   "cell_type": "markdown",
   "id": "f5ddad36",
   "metadata": {},
   "source": [
    "# Project on Property Price Prediction-(Linear Regression with OLS Method)"
   ]
  },
  {
   "cell_type": "markdown",
   "id": "2e45ef06",
   "metadata": {},
   "source": [
    "# Project Abstract:\n",
    "A key challenge for property sellers is to determine the sale price of the property. The ability to predict the exact property value is beneficial for property investors as well as for buyers to plan their finances according to the price trend. The property prices depend on the number of features like the property area, basement square footage, year built, number of bedrooms, and so on.\n",
    "# Problem Statement:\n",
    "Use regression analysis to predict the price of a property.\n",
    "# Dataset Information:\n",
    "Dwell_Type: Identifies the type of dwelling involved in the sale\n",
    "20 1-STORY 1946 & NEWER ALL STYLES 30 1-STORY 1945 & OLDER 40 1-STORY W/FINISHED ATTIC ALL AGES 45 1-1/2 STORY - UNFINISHED ALL AGES 50 1-1/2 STORY FINISHED ALL AGES 60 2-STORY 1946 & NEWER 70 2-STORY 1945 & OLDER 75 2-1/2 STORY ALL AGES 80 SPLIT OR MULTI-LEVEL 85 SPLIT FOYER 90 DUPLEX - ALL STYLES AND AGES 120 1-STORY PUD (Planned Unit Development) - 1946 & NEWER 150 1-1/2 STORY PUD - ALL AGES 160 2-STORY PUD - 1946 & NEWER 180 PUD - MULTILEVEL - INCL SPLIT LEV/FOYER 190 2 FAMILY CONVERSION - ALL STYLES AND AGES\n",
    "\n",
    "### Zone_Class: Identifies the general zoning classification of the sale\n",
    "A Agriculture C Commercial FV Floating Village Residential I Industrial RH Residential High Density RL Residential Low Density RP Residential Low Density Park RM Residential Medium Density\n",
    "\n",
    "### LotFrontage: Linear feet of street-connected to the property\n",
    "### LotArea: Lot size is the lot or parcel side where it adjoins a street, boulevard or access way\n",
    "### Road_Type: Type of road access to the property\n",
    "Grvl Gravel Pave Paved\n",
    "\n",
    "### Alley: Type of alley access to the property\n",
    "Grvl Gravel Pave Paved NA No alley access\n",
    "\n",
    "### Property_Shape: General shape of the property\n",
    "Reg Regular IR1 Slightly irregular IR2 Moderately Irregular IR3 Irregular\n",
    "\n",
    "### LandContour: Flatness of the property\n",
    "Lvl Near Flat/Level Bnk Banked - Quick and significant rise from street grade to building HLS Hillside - Significant slope from side to side Low Depression\n",
    "\n",
    "### Utilities: Type of utilities available\n",
    "AllPub All public Utilities (E, G, W and S) NoSewr Electricity, Gas, and Water (Septic Tank) NoSeWa Electricity and Gas Only ELO Electricity only\n",
    "\n",
    "### LotConfig: Lot configuration\n",
    "Inside Inside lot Corner Corner lot CulDSac Cul-de-sac FR2 Frontage on 2 sides of property FR3 Frontage on 3 sides of property\n",
    "\n",
    "### LandSlope: Slope of property\n",
    "Gtl Gentle slope Mod Moderate Slope Sev Severe Slope\n",
    "\n",
    "### Neighborhood: Physical locations within Ames city limits\n",
    "Blmngtn Bloomington Heights Blueste Bluestem BrDale Briardale BrkSide Brookside ClearCr Clear Creek CollgCr College Creek Crawfor Crawford Edwards Edwards Gilbert Gilbert IDOTRR Iowa DOT and Rail Road MeadowV Meadow Village Mitchel Mitchell Names North Ames NoRidge Northridge NPkVill Northpark Villa NridgHt Northridge Heights NWAmes Northwest Ames OldTown Old Town SWISU South & West of Iowa State University Sawyer Sawyer SawyerW Sawyer West Somerst Somerset StoneBr Stone Brook Timber Timberland Veenker Veenker\n",
    "\n",
    "### Condition1: Proximity to various conditions\n",
    "Artery Adjacent to an arterial street Feedr Adjacent to feeder street Norm Normal RRNn Within 200' of North-South Railroad RRAn Adjacent to North-South Railroad PosN Near positive off-site feature--park, greenbelt, etc. PosA Adjacent to positive off-site feature RRNe Within 200' of East-West Railroad RRAe Adjacent to East-West Railroad\n",
    "\n",
    "### Condition2: Proximity to various conditions (if more than one is present)\n",
    "Artery Adjacent to an arterial street Feedr Adjacent to feeder street Norm Normal RRNn Within 200' of North-South Railroad RRAn Adjacent to North-South Railroad PosN Near positive off-site feature--park, greenbelt, etc. PosA Adjacent to positive off-site feature RRNe Within 200' of East-West Railroad RRAe Adjacent to East-West Railroad\n",
    "\n",
    "### Dwelling_Type: Type of dwelling\n",
    "1Fam Single-family Detached 2FmCon Two-family Conversion; originally built as a one-family dwelling Duplx Duplex TwnhsE Townhouse End Unit TwnhsI Townhouse Inside Unit\n",
    "\n",
    "### HouseStyle: Style of dwelling\n",
    "1Story One story 1.5Fin One and one-half story: 2nd level finished 1.5Unf One and one-half story: 2nd level unfinished 2Story Two-story 2.5Fin Two and one-half story: 2nd level finished 2.5Unf Two and one-half story: 2nd level unfinished SFoyer Split Foyer SLvl Split Level\n",
    "\n",
    "### OverallQual: Rates the overall material and finish of the house\n",
    "10 Very Excellent 9 Excellent 8 Very Good 7 Good 6 Above Average 5 Average 4 Below Average 3 Fair 2 Poor 1 Very Poor\n",
    "\n",
    "### OverallCond: Rates the overall condition of the house\n",
    "10 Very Excellent 9 Excellent 8 Very Good 7 Good 6 Above Average 5 Average 4 Below Average 3 Fair 2 Poor 1 Very Poor\n",
    "\n",
    "### YearBuilt: Original construction date\n",
    "### YearRemodAdd: Remodel date (same as construction date if no remodeling or additions)\n",
    "### RoofStyle: Type of roof\n",
    "Flat Flat Gable Gable Gambrel Gabrel (Barn) Hip Hip Mansard Mansard Shed Shed\n",
    "\n",
    "### RoofMatl: Roof material\n",
    "ClyTile Clay or Tile CompShg Standard (Composite) Shingle Membran Membrane Metal Metal Roll Roll Tar&Grv Gravel & Tar WdShake Wood Shakes WdShngl Wood Shingles\n",
    "\n",
    "### Exterior1st: Exterior covering on the house\n",
    "AsbShng Asbestos Shingles AsphShn Asphalt Shingles BrkComm Brick Common BrkFace Brick Face CBlock Cinder Block CemntBd Cement Board HdBoard Hard Board ImStucc Imitation Stucco MetalSd Metal Siding Other Other Plywood Plywood PreCast PreCast Stone Stone Stucco Stucco VinylSd Vinyl Siding Wd Sdng Wood Siding WdShing Wood Shingles\n",
    "\n",
    "### Exterior2nd: Exterior covering on the house (if more than one material)\n",
    "AsbShng Asbestos Shingles AsphShn Asphalt Shingles BrkComm Brick Common BrkFace Brick Face CBlock Cinder Block CemntBd Cement Board HdBoard Hard Board ImStucc Imitation Stucco MetalSd Metal Siding Other Other Plywood Plywood PreCast PreCast Stone Stone Stucco Stucco VinylSd Vinyl Siding Wd Sdng Wood Siding WdShing Wood Shingles\n",
    "\n",
    "### MasVnrType: Masonry veneer type\n",
    "BrkCmn Brick Common BrkFace Brick Face CBlock Cinder Block Stone Stone\n",
    "\n",
    "### MasVnrArea: Masonry veneer area in square feet\n",
    "### ExterQual: Evaluates the quality of the material on the exterior\n",
    "### Ex Excellent Gd Good TA Average/Typical Fa Fair Po Poor\n",
    "\n",
    "### ExterCond: Evaluates the present condition of the material on the exterior\n",
    "Ex Excellent Gd Good TA Average/Typical Fa Fair Po Poor\n",
    "\n",
    "### Foundation: Type of foundation\n",
    "BrkTil Brick & Tile CBlock Cinder Block PConc Poured Concrete Slab Slab Stone Stone Wood Wood\n",
    "\n",
    "### BsmtQual: Evaluates the height of the basement\n",
    "Ex Excellent (100+ inches) Gd Good (90-99 inches) TA Typical (80-89 inches) Fa Fair (70-79 inches) Po Poor (<70 inches NA No Basement\n",
    "\n",
    "### BsmtCond: Evaluates the general condition of the basement\n",
    "Ex Excellent Gd Good TA Typical - slight dampness allowed Fa Fair - dampness or some cracking or settling Po Poor - Severe cracking, settling, or wetness NA No Basement\n",
    "\n",
    "### BsmtExposure: Refers to walkout or garden level walls\n",
    "Gd Good Exposure Av Average Exposure (split levels or foyers typically score average or above) Mn Minimum Exposure No No Exposure NA No Basement\n",
    "\n",
    "### BsmtFinType1: Rating of basement finished area\n",
    "GLQ Good Living Quarters ALQ Average Living Quarters BLQ Below Average Living Quarters Rec Average Rec Room LwQ Low Quality Unf Unfinished NA No Basement\n",
    "\n",
    "### BsmtFinSF1: Type 1 finished square feet\n",
    "### BsmtFinType2: Rating of basement finished area (if multiple types)\n",
    "GLQ Good Living Quarters ALQ Average Living Quarters BLQ Below Average Living Quarters Rec Average Rec Room LwQ Low Quality Unf Unfinished NA No Basement\n",
    "\n",
    "### BsmtFinSF2: Type 2 finished square feet\n",
    "### BsmtUnfSF: Unfinished square feet of the basement area\n",
    "### TotalBsmtSF: Total square feet of the basement area\n",
    "### Heating: Type of heating\n",
    "Floor Floor Furnace GasA Gas forced warm air furnace GasW Gas hot water or steam heat Grav Gravity furnace OthW Hot water or steam heat other than gas Wall Wall furnace\n",
    "\n",
    "### HeatingQC: Heating quality and condition\n",
    "Ex Excellent Gd Good TA Average/Typical Fa Fair Po Poor\n",
    "\n",
    "### CentralAir: Central air conditioning\n",
    "N No Y Yes\n",
    "\n",
    "### Electrical: Electrical system\n",
    "SBrkr Standard Circuit Breakers & Romex FuseA Fuse Box over 60 AMP and all Romex wiring (Average) FuseF 60 AMP Fuse Box and mostly Romex wiring (Fair) FuseP 60 AMP Fuse Box and mostly knob & tube wiring (poor) Mix Mixed\n",
    "\n",
    "### 1stFlrSF: First Floor square feet\n",
    "### 2ndFlrSF: Second floor square feet\n",
    "### LowQualFinSF: Low quality finished square feet (all floors)\n",
    "### GrLivArea: Above grade (ground) living area square feet\n",
    "### BsmtFullBath: Basement full bathrooms\n",
    "### BsmtHalfBath: Basement half bathrooms\n",
    "### FullBath: Full bathrooms above grade\n",
    "### HalfBath: Half baths above grade\n",
    "### Bedroom: Bedrooms above grade (does NOT include basement bedrooms)\n",
    "### Kitchen: Kitchens above grade\n",
    "### ### KitchenQual: Kitchen quality\n",
    "Ex Excellent Gd Good TA Typical/Average Fa Fair Po Poor\n",
    "\n",
    "### TotRmsAbvGrd: Total rooms above grade (does not include bathrooms)\n",
    "### Functional: Home functionality (Assume typical unless deductions are warranted)\n",
    "Typ Typical Functionality Min1 Minor Deductions 1 Min2 Minor Deductions 2 Mod Moderate Deductions Maj1 Major Deductions 1 Maj2 Major Deductions 2 Sev Severely Damaged Sal Salvage only\n",
    "\n",
    "### Fireplaces: Number of fireplaces\n",
    "### FireplaceQu: Fireplace quality\n",
    "Ex Excellent - Exceptional Masonry Fireplace Gd Good - Masonry Fireplace in the main level TA Average - Prefabricated Fireplace in the main living area or Masonry Fireplace in basement Fa Fair - Prefabricated Fireplace in a basement Po Poor - Ben Franklin Stove NA No Fireplace\n",
    "\n",
    "### GarageType: Garage location\n",
    "2Types More than one type of garage Attchd Attached to the home Basment Basement Garage BuiltIn Built-In (Garage part of the house - typically has hte room above garage) CarPort Car Port Detchd Detached from home NA No Garage\n",
    "\n",
    "### GarageYrBlt: Year garage was built\n",
    "### GarageFinish: Interior finish of the garage\n",
    "Fin Finished RFn Rough Finished Unf Unfinished NA No Garage\n",
    "\n",
    "### GarageCars: Size of garage in car capacity\n",
    "### GarageArea: Size of garage in square feet\n",
    "### GarageQual: Garage quality\n",
    "Ex Excellent Gd Good TA Typical/Average Fa Fair Po Poor NA No Garage\n",
    "\n",
    "### GarageCond: Garage condition\n",
    "Ex Excellent Gd Good TA Typical/Average Fa Fair Po Poor NA No Garage\n",
    "\n",
    "### PavedDrive: Paved driveway\n",
    "Y Paved P Partial Pavement N Dirt/Gravel\n",
    "\n",
    "### WoodDeckSF: Wood deck area in square feet\n",
    "### OpenPorchSF: Open porch area in square feet\n",
    "### EnclosedPorch: Enclosed porch area in square feet\n",
    "### 3SsnPorch: Three season porch area in square feet\n",
    "### ScreenPorch: Screen porch area in square feet\n",
    "### PoolArea: Pool area in square feet\n",
    "### PoolQC: Pool quality\n",
    "Ex Excellent Gd Good TA Average/Typical Fa Fair NA No Pool\n",
    "\n",
    "### Fence: Fence quality\n",
    "GdPrv Good Privacy MnPrv Minimum Privacy GdWo Good Wood MnWw Minimum Wood/Wire NA No Fence\n",
    "\n",
    "### MiscFeature: Miscellaneous feature not covered in other categories\n",
    "Elev Elevator Gar2 2nd Garage (if not described in garage section) Othr Other Shed Shed (over 100 SF) TenC Tennis Court NA None\n",
    "\n",
    "### MiscVal: Value of miscellaneous feature\n",
    "### MoSold: Month Sold (MM)\n",
    "### YrSold: Year Sold (YYYY)\n",
    "### SaleType: Type of sale\n",
    "WD Warranty Deed - Conventional CWD Warranty Deed - Cash VWD Warranty Deed - VA Loan New Home just constructed and sold COD Court Officer Deed/Estate Con Contract 15% Down payment regular terms ConLw Contract Low Down payment and low interest ConLI Contract Low Interest ConLD Contract Low Down Oth Other\n",
    "\n",
    "### SaleCondition: Condition of sale\n",
    "Normal Normal Sale Abnorml Abnormal Sale - trade, foreclosure, short sale AdjLand Adjoining Land Purchase Alloca Allocation - two linked properties with separate deeds, typically condo with a garage unit Family Sale between family members Partial Home was not completed when last assessed (associated with New Homes)\n",
    "\n",
    "### Property_Sale_Price: Price of the house"
   ]
  },
  {
   "cell_type": "code",
   "execution_count": 1,
   "id": "8236262e",
   "metadata": {},
   "outputs": [],
   "source": [
    "# 1. Importing Necessary Libraries:"
   ]
  },
  {
   "cell_type": "code",
   "execution_count": 2,
   "id": "7aa3f5e1",
   "metadata": {},
   "outputs": [],
   "source": [
    "import numpy as np\n",
    "import pandas as pd\n",
    "import matplotlib.pyplot as plt\n",
    "import seaborn as sns\n",
    "from sklearn.model_selection import train_test_split\n",
    "from sklearn.linear_model import LinearRegression\n",
    "from sklearn.preprocessing import StandardScaler\n",
    "from sklearn.preprocessing import MinMaxScaler\n",
    "from sklearn.preprocessing import RobustScaler\n",
    "from numpy import percentile\n",
    "%matplotlib inline"
   ]
  },
  {
   "cell_type": "code",
   "execution_count": 3,
   "id": "fa561afe",
   "metadata": {},
   "outputs": [],
   "source": [
    "# 2. Importing Data:"
   ]
  },
  {
   "cell_type": "code",
   "execution_count": 5,
   "id": "6d20c03c",
   "metadata": {},
   "outputs": [],
   "source": [
    "df=pd.read_csv(\"HousePrices.csv\")"
   ]
  },
  {
   "cell_type": "code",
   "execution_count": 6,
   "id": "b15afa0e",
   "metadata": {},
   "outputs": [],
   "source": [
    "# 3. EDA:"
   ]
  },
  {
   "cell_type": "code",
   "execution_count": 7,
   "id": "305a4c9a",
   "metadata": {},
   "outputs": [
    {
     "name": "stdout",
     "output_type": "stream",
     "text": [
      "<class 'pandas.core.frame.DataFrame'>\n",
      "RangeIndex: 2073 entries, 0 to 2072\n",
      "Data columns (total 81 columns):\n",
      " #   Column               Non-Null Count  Dtype  \n",
      "---  ------               --------------  -----  \n",
      " 0   Id                   2073 non-null   int64  \n",
      " 1   Dwell_Type           2073 non-null   int64  \n",
      " 2   Zone_Class           2073 non-null   object \n",
      " 3   LotFrontage          1753 non-null   float64\n",
      " 4   LotArea              2073 non-null   int64  \n",
      " 5   Road_Type            2073 non-null   object \n",
      " 6   Alley                129 non-null    object \n",
      " 7   Property_Shape       2073 non-null   object \n",
      " 8   LandContour          2073 non-null   object \n",
      " 9   Utilities            2073 non-null   object \n",
      " 10  LotConfig            2073 non-null   object \n",
      " 11  LandSlope            2073 non-null   object \n",
      " 12  Neighborhood         2073 non-null   object \n",
      " 13  Condition1           2073 non-null   object \n",
      " 14  Condition2           2073 non-null   object \n",
      " 15  Dwelling_Type        2073 non-null   object \n",
      " 16  HouseStyle           2073 non-null   object \n",
      " 17  OverallQual          2073 non-null   int64  \n",
      " 18  OverallCond          2073 non-null   int64  \n",
      " 19  YearBuilt            2073 non-null   int64  \n",
      " 20  YearRemodAdd         2073 non-null   int64  \n",
      " 21  RoofStyle            2073 non-null   object \n",
      " 22  RoofMatl             2073 non-null   object \n",
      " 23  Exterior1st          2073 non-null   object \n",
      " 24  Exterior2nd          2073 non-null   object \n",
      " 25  MasVnrType           2059 non-null   object \n",
      " 26  MasVnrArea           2059 non-null   float64\n",
      " 27  ExterQual            2073 non-null   object \n",
      " 28  ExterCond            2073 non-null   object \n",
      " 29  Foundation           2073 non-null   object \n",
      " 30  BsmtQual             2014 non-null   object \n",
      " 31  BsmtCond             2014 non-null   object \n",
      " 32  BsmtExposure         2012 non-null   object \n",
      " 33  BsmtFinType1         2014 non-null   object \n",
      " 34  BsmtFinSF1           2073 non-null   int64  \n",
      " 35  BsmtFinType2         2013 non-null   object \n",
      " 36  BsmtFinSF2           2073 non-null   int64  \n",
      " 37  BsmtUnfSF            2073 non-null   int64  \n",
      " 38  TotalBsmtSF          2073 non-null   int64  \n",
      " 39  Heating              2073 non-null   object \n",
      " 40  HeatingQC            2073 non-null   object \n",
      " 41  CentralAir           2073 non-null   object \n",
      " 42  Electrical           2072 non-null   object \n",
      " 43  1stFlrSF             2073 non-null   int64  \n",
      " 44  2ndFlrSF             2073 non-null   int64  \n",
      " 45  LowQualFinSF         2073 non-null   int64  \n",
      " 46  GrLivArea            2073 non-null   int64  \n",
      " 47  BsmtFullBath         2073 non-null   int64  \n",
      " 48  BsmtHalfBath         2073 non-null   int64  \n",
      " 49  FullBath             2073 non-null   int64  \n",
      " 50  HalfBath             2073 non-null   int64  \n",
      " 51  BedroomAbvGr         2073 non-null   int64  \n",
      " 52  KitchenAbvGr         2073 non-null   int64  \n",
      " 53  KitchenQual          2073 non-null   object \n",
      " 54  TotRmsAbvGrd         2073 non-null   int64  \n",
      " 55  Functional           2073 non-null   object \n",
      " 56  Fireplaces           2073 non-null   int64  \n",
      " 57  FireplaceQu          1085 non-null   object \n",
      " 58  GarageType           1960 non-null   object \n",
      " 59  GarageYrBlt          1960 non-null   float64\n",
      " 60  GarageFinish         1960 non-null   object \n",
      " 61  GarageCars           2073 non-null   int64  \n",
      " 62  GarageArea           2073 non-null   int64  \n",
      " 63  GarageQual           1960 non-null   object \n",
      " 64  GarageCond           1960 non-null   object \n",
      " 65  PavedDrive           2073 non-null   object \n",
      " 66  WoodDeckSF           2073 non-null   int64  \n",
      " 67  OpenPorchSF          2073 non-null   int64  \n",
      " 68  EnclosedPorch        2073 non-null   int64  \n",
      " 69  3SsnPorch            2073 non-null   int64  \n",
      " 70  ScreenPorch          2073 non-null   int64  \n",
      " 71  PoolArea             2073 non-null   int64  \n",
      " 72  PoolQC               8 non-null      object \n",
      " 73  Fence                404 non-null    object \n",
      " 74  MiscFeature          80 non-null     object \n",
      " 75  MiscVal              2073 non-null   int64  \n",
      " 76  MoSold               2073 non-null   int64  \n",
      " 77  YrSold               2073 non-null   int64  \n",
      " 78  SaleType             2073 non-null   object \n",
      " 79  SaleCondition        2073 non-null   object \n",
      " 80  Property_Sale_Price  2073 non-null   int64  \n",
      "dtypes: float64(3), int64(35), object(43)\n",
      "memory usage: 1.3+ MB\n"
     ]
    }
   ],
   "source": [
    "\n",
    "df.info()"
   ]
  },
  {
   "cell_type": "code",
   "execution_count": 8,
   "id": "2f07e093",
   "metadata": {},
   "outputs": [
    {
     "data": {
      "text/html": [
       "<div>\n",
       "<style scoped>\n",
       "    .dataframe tbody tr th:only-of-type {\n",
       "        vertical-align: middle;\n",
       "    }\n",
       "\n",
       "    .dataframe tbody tr th {\n",
       "        vertical-align: top;\n",
       "    }\n",
       "\n",
       "    .dataframe thead th {\n",
       "        text-align: right;\n",
       "    }\n",
       "</style>\n",
       "<table border=\"1\" class=\"dataframe\">\n",
       "  <thead>\n",
       "    <tr style=\"text-align: right;\">\n",
       "      <th></th>\n",
       "      <th>Id</th>\n",
       "      <th>Dwell_Type</th>\n",
       "      <th>LotFrontage</th>\n",
       "      <th>LotArea</th>\n",
       "      <th>OverallQual</th>\n",
       "      <th>OverallCond</th>\n",
       "      <th>YearBuilt</th>\n",
       "      <th>YearRemodAdd</th>\n",
       "      <th>MasVnrArea</th>\n",
       "      <th>BsmtFinSF1</th>\n",
       "      <th>...</th>\n",
       "      <th>WoodDeckSF</th>\n",
       "      <th>OpenPorchSF</th>\n",
       "      <th>EnclosedPorch</th>\n",
       "      <th>3SsnPorch</th>\n",
       "      <th>ScreenPorch</th>\n",
       "      <th>PoolArea</th>\n",
       "      <th>MiscVal</th>\n",
       "      <th>MoSold</th>\n",
       "      <th>YrSold</th>\n",
       "      <th>Property_Sale_Price</th>\n",
       "    </tr>\n",
       "  </thead>\n",
       "  <tbody>\n",
       "    <tr>\n",
       "      <th>count</th>\n",
       "      <td>2073.000000</td>\n",
       "      <td>2073.000000</td>\n",
       "      <td>1753.000000</td>\n",
       "      <td>2073.000000</td>\n",
       "      <td>2073.000000</td>\n",
       "      <td>2073.000000</td>\n",
       "      <td>2073.000000</td>\n",
       "      <td>2073.000000</td>\n",
       "      <td>2059.000000</td>\n",
       "      <td>2073.000000</td>\n",
       "      <td>...</td>\n",
       "      <td>2073.000000</td>\n",
       "      <td>2073.000000</td>\n",
       "      <td>2073.000000</td>\n",
       "      <td>2073.000000</td>\n",
       "      <td>2073.000000</td>\n",
       "      <td>2073.000000</td>\n",
       "      <td>2073.000000</td>\n",
       "      <td>2073.000000</td>\n",
       "      <td>2073.000000</td>\n",
       "      <td>2073.000000</td>\n",
       "    </tr>\n",
       "    <tr>\n",
       "      <th>mean</th>\n",
       "      <td>916.132176</td>\n",
       "      <td>60.556199</td>\n",
       "      <td>72.056475</td>\n",
       "      <td>10717.853353</td>\n",
       "      <td>6.233478</td>\n",
       "      <td>5.835022</td>\n",
       "      <td>1969.445731</td>\n",
       "      <td>1986.617463</td>\n",
       "      <td>101.875668</td>\n",
       "      <td>437.949349</td>\n",
       "      <td>...</td>\n",
       "      <td>94.168837</td>\n",
       "      <td>46.035697</td>\n",
       "      <td>21.029908</td>\n",
       "      <td>2.979257</td>\n",
       "      <td>14.552340</td>\n",
       "      <td>2.299083</td>\n",
       "      <td>39.736614</td>\n",
       "      <td>6.287506</td>\n",
       "      <td>2007.851905</td>\n",
       "      <td>180967.284129</td>\n",
       "    </tr>\n",
       "    <tr>\n",
       "      <th>std</th>\n",
       "      <td>493.014670</td>\n",
       "      <td>159.924810</td>\n",
       "      <td>27.987475</td>\n",
       "      <td>9215.982306</td>\n",
       "      <td>1.517115</td>\n",
       "      <td>1.360214</td>\n",
       "      <td>30.222647</td>\n",
       "      <td>20.432694</td>\n",
       "      <td>179.169217</td>\n",
       "      <td>448.051119</td>\n",
       "      <td>...</td>\n",
       "      <td>129.072113</td>\n",
       "      <td>64.768713</td>\n",
       "      <td>59.569928</td>\n",
       "      <td>26.817218</td>\n",
       "      <td>54.099626</td>\n",
       "      <td>37.411031</td>\n",
       "      <td>429.819512</td>\n",
       "      <td>2.690130</td>\n",
       "      <td>1.329705</td>\n",
       "      <td>78666.411112</td>\n",
       "    </tr>\n",
       "    <tr>\n",
       "      <th>min</th>\n",
       "      <td>1.000000</td>\n",
       "      <td>20.000000</td>\n",
       "      <td>21.000000</td>\n",
       "      <td>1300.000000</td>\n",
       "      <td>1.000000</td>\n",
       "      <td>1.000000</td>\n",
       "      <td>1872.000000</td>\n",
       "      <td>1950.000000</td>\n",
       "      <td>0.000000</td>\n",
       "      <td>0.000000</td>\n",
       "      <td>...</td>\n",
       "      <td>0.000000</td>\n",
       "      <td>0.000000</td>\n",
       "      <td>0.000000</td>\n",
       "      <td>0.000000</td>\n",
       "      <td>0.000000</td>\n",
       "      <td>0.000000</td>\n",
       "      <td>0.000000</td>\n",
       "      <td>1.000000</td>\n",
       "      <td>2006.000000</td>\n",
       "      <td>34900.000000</td>\n",
       "    </tr>\n",
       "    <tr>\n",
       "      <th>25%</th>\n",
       "      <td>519.000000</td>\n",
       "      <td>20.000000</td>\n",
       "      <td>60.000000</td>\n",
       "      <td>7620.000000</td>\n",
       "      <td>5.000000</td>\n",
       "      <td>5.000000</td>\n",
       "      <td>1950.000000</td>\n",
       "      <td>1970.000000</td>\n",
       "      <td>0.000000</td>\n",
       "      <td>0.000000</td>\n",
       "      <td>...</td>\n",
       "      <td>0.000000</td>\n",
       "      <td>0.000000</td>\n",
       "      <td>0.000000</td>\n",
       "      <td>0.000000</td>\n",
       "      <td>0.000000</td>\n",
       "      <td>0.000000</td>\n",
       "      <td>0.000000</td>\n",
       "      <td>5.000000</td>\n",
       "      <td>2007.000000</td>\n",
       "      <td>130000.000000</td>\n",
       "    </tr>\n",
       "    <tr>\n",
       "      <th>50%</th>\n",
       "      <td>932.000000</td>\n",
       "      <td>50.000000</td>\n",
       "      <td>70.000000</td>\n",
       "      <td>9492.000000</td>\n",
       "      <td>6.000000</td>\n",
       "      <td>5.000000</td>\n",
       "      <td>1971.000000</td>\n",
       "      <td>1995.000000</td>\n",
       "      <td>0.000000</td>\n",
       "      <td>381.000000</td>\n",
       "      <td>...</td>\n",
       "      <td>0.000000</td>\n",
       "      <td>24.000000</td>\n",
       "      <td>0.000000</td>\n",
       "      <td>0.000000</td>\n",
       "      <td>0.000000</td>\n",
       "      <td>0.000000</td>\n",
       "      <td>0.000000</td>\n",
       "      <td>6.000000</td>\n",
       "      <td>2008.000000</td>\n",
       "      <td>163990.000000</td>\n",
       "    </tr>\n",
       "    <tr>\n",
       "      <th>75%</th>\n",
       "      <td>1302.000000</td>\n",
       "      <td>70.000000</td>\n",
       "      <td>83.000000</td>\n",
       "      <td>11601.000000</td>\n",
       "      <td>7.000000</td>\n",
       "      <td>7.000000</td>\n",
       "      <td>1999.000000</td>\n",
       "      <td>2004.000000</td>\n",
       "      <td>161.500000</td>\n",
       "      <td>708.000000</td>\n",
       "      <td>...</td>\n",
       "      <td>168.000000</td>\n",
       "      <td>67.000000</td>\n",
       "      <td>0.000000</td>\n",
       "      <td>0.000000</td>\n",
       "      <td>0.000000</td>\n",
       "      <td>0.000000</td>\n",
       "      <td>0.000000</td>\n",
       "      <td>8.000000</td>\n",
       "      <td>2009.000000</td>\n",
       "      <td>214000.000000</td>\n",
       "    </tr>\n",
       "    <tr>\n",
       "      <th>max</th>\n",
       "      <td>1820.000000</td>\n",
       "      <td>7080.000000</td>\n",
       "      <td>313.000000</td>\n",
       "      <td>215245.000000</td>\n",
       "      <td>10.000000</td>\n",
       "      <td>9.000000</td>\n",
       "      <td>2010.000000</td>\n",
       "      <td>2023.000000</td>\n",
       "      <td>1600.000000</td>\n",
       "      <td>5644.000000</td>\n",
       "      <td>...</td>\n",
       "      <td>857.000000</td>\n",
       "      <td>547.000000</td>\n",
       "      <td>552.000000</td>\n",
       "      <td>508.000000</td>\n",
       "      <td>480.000000</td>\n",
       "      <td>738.000000</td>\n",
       "      <td>15500.000000</td>\n",
       "      <td>12.000000</td>\n",
       "      <td>2010.000000</td>\n",
       "      <td>755000.000000</td>\n",
       "    </tr>\n",
       "  </tbody>\n",
       "</table>\n",
       "<p>8 rows × 38 columns</p>\n",
       "</div>"
      ],
      "text/plain": [
       "                Id   Dwell_Type  LotFrontage        LotArea  OverallQual  \\\n",
       "count  2073.000000  2073.000000  1753.000000    2073.000000  2073.000000   \n",
       "mean    916.132176    60.556199    72.056475   10717.853353     6.233478   \n",
       "std     493.014670   159.924810    27.987475    9215.982306     1.517115   \n",
       "min       1.000000    20.000000    21.000000    1300.000000     1.000000   \n",
       "25%     519.000000    20.000000    60.000000    7620.000000     5.000000   \n",
       "50%     932.000000    50.000000    70.000000    9492.000000     6.000000   \n",
       "75%    1302.000000    70.000000    83.000000   11601.000000     7.000000   \n",
       "max    1820.000000  7080.000000   313.000000  215245.000000    10.000000   \n",
       "\n",
       "       OverallCond    YearBuilt  YearRemodAdd   MasVnrArea   BsmtFinSF1  ...  \\\n",
       "count  2073.000000  2073.000000   2073.000000  2059.000000  2073.000000  ...   \n",
       "mean      5.835022  1969.445731   1986.617463   101.875668   437.949349  ...   \n",
       "std       1.360214    30.222647     20.432694   179.169217   448.051119  ...   \n",
       "min       1.000000  1872.000000   1950.000000     0.000000     0.000000  ...   \n",
       "25%       5.000000  1950.000000   1970.000000     0.000000     0.000000  ...   \n",
       "50%       5.000000  1971.000000   1995.000000     0.000000   381.000000  ...   \n",
       "75%       7.000000  1999.000000   2004.000000   161.500000   708.000000  ...   \n",
       "max       9.000000  2010.000000   2023.000000  1600.000000  5644.000000  ...   \n",
       "\n",
       "        WoodDeckSF  OpenPorchSF  EnclosedPorch    3SsnPorch  ScreenPorch  \\\n",
       "count  2073.000000  2073.000000    2073.000000  2073.000000  2073.000000   \n",
       "mean     94.168837    46.035697      21.029908     2.979257    14.552340   \n",
       "std     129.072113    64.768713      59.569928    26.817218    54.099626   \n",
       "min       0.000000     0.000000       0.000000     0.000000     0.000000   \n",
       "25%       0.000000     0.000000       0.000000     0.000000     0.000000   \n",
       "50%       0.000000    24.000000       0.000000     0.000000     0.000000   \n",
       "75%     168.000000    67.000000       0.000000     0.000000     0.000000   \n",
       "max     857.000000   547.000000     552.000000   508.000000   480.000000   \n",
       "\n",
       "          PoolArea       MiscVal       MoSold       YrSold  \\\n",
       "count  2073.000000   2073.000000  2073.000000  2073.000000   \n",
       "mean      2.299083     39.736614     6.287506  2007.851905   \n",
       "std      37.411031    429.819512     2.690130     1.329705   \n",
       "min       0.000000      0.000000     1.000000  2006.000000   \n",
       "25%       0.000000      0.000000     5.000000  2007.000000   \n",
       "50%       0.000000      0.000000     6.000000  2008.000000   \n",
       "75%       0.000000      0.000000     8.000000  2009.000000   \n",
       "max     738.000000  15500.000000    12.000000  2010.000000   \n",
       "\n",
       "       Property_Sale_Price  \n",
       "count          2073.000000  \n",
       "mean         180967.284129  \n",
       "std           78666.411112  \n",
       "min           34900.000000  \n",
       "25%          130000.000000  \n",
       "50%          163990.000000  \n",
       "75%          214000.000000  \n",
       "max          755000.000000  \n",
       "\n",
       "[8 rows x 38 columns]"
      ]
     },
     "execution_count": 8,
     "metadata": {},
     "output_type": "execute_result"
    }
   ],
   "source": [
    "df.describe()"
   ]
  },
  {
   "cell_type": "code",
   "execution_count": 9,
   "id": "e1098c96",
   "metadata": {},
   "outputs": [
    {
     "data": {
      "text/html": [
       "<div>\n",
       "<style scoped>\n",
       "    .dataframe tbody tr th:only-of-type {\n",
       "        vertical-align: middle;\n",
       "    }\n",
       "\n",
       "    .dataframe tbody tr th {\n",
       "        vertical-align: top;\n",
       "    }\n",
       "\n",
       "    .dataframe thead th {\n",
       "        text-align: right;\n",
       "    }\n",
       "</style>\n",
       "<table border=\"1\" class=\"dataframe\">\n",
       "  <thead>\n",
       "    <tr style=\"text-align: right;\">\n",
       "      <th></th>\n",
       "      <th>Id</th>\n",
       "      <th>Dwell_Type</th>\n",
       "      <th>Zone_Class</th>\n",
       "      <th>LotFrontage</th>\n",
       "      <th>LotArea</th>\n",
       "      <th>Road_Type</th>\n",
       "      <th>Alley</th>\n",
       "      <th>Property_Shape</th>\n",
       "      <th>LandContour</th>\n",
       "      <th>Utilities</th>\n",
       "      <th>...</th>\n",
       "      <th>PoolArea</th>\n",
       "      <th>PoolQC</th>\n",
       "      <th>Fence</th>\n",
       "      <th>MiscFeature</th>\n",
       "      <th>MiscVal</th>\n",
       "      <th>MoSold</th>\n",
       "      <th>YrSold</th>\n",
       "      <th>SaleType</th>\n",
       "      <th>SaleCondition</th>\n",
       "      <th>Property_Sale_Price</th>\n",
       "    </tr>\n",
       "  </thead>\n",
       "  <tbody>\n",
       "    <tr>\n",
       "      <th>count</th>\n",
       "      <td>2073.000000</td>\n",
       "      <td>2073.000000</td>\n",
       "      <td>2073</td>\n",
       "      <td>1753.000000</td>\n",
       "      <td>2073.000000</td>\n",
       "      <td>2073</td>\n",
       "      <td>129</td>\n",
       "      <td>2073</td>\n",
       "      <td>2073</td>\n",
       "      <td>2073</td>\n",
       "      <td>...</td>\n",
       "      <td>2073.000000</td>\n",
       "      <td>8</td>\n",
       "      <td>404</td>\n",
       "      <td>80</td>\n",
       "      <td>2073.000000</td>\n",
       "      <td>2073.000000</td>\n",
       "      <td>2073.000000</td>\n",
       "      <td>2073</td>\n",
       "      <td>2073</td>\n",
       "      <td>2073.000000</td>\n",
       "    </tr>\n",
       "    <tr>\n",
       "      <th>unique</th>\n",
       "      <td>NaN</td>\n",
       "      <td>NaN</td>\n",
       "      <td>5</td>\n",
       "      <td>NaN</td>\n",
       "      <td>NaN</td>\n",
       "      <td>2</td>\n",
       "      <td>2</td>\n",
       "      <td>4</td>\n",
       "      <td>4</td>\n",
       "      <td>2</td>\n",
       "      <td>...</td>\n",
       "      <td>NaN</td>\n",
       "      <td>3</td>\n",
       "      <td>4</td>\n",
       "      <td>4</td>\n",
       "      <td>NaN</td>\n",
       "      <td>NaN</td>\n",
       "      <td>NaN</td>\n",
       "      <td>9</td>\n",
       "      <td>6</td>\n",
       "      <td>NaN</td>\n",
       "    </tr>\n",
       "    <tr>\n",
       "      <th>top</th>\n",
       "      <td>NaN</td>\n",
       "      <td>NaN</td>\n",
       "      <td>RL</td>\n",
       "      <td>NaN</td>\n",
       "      <td>NaN</td>\n",
       "      <td>Pave</td>\n",
       "      <td>Grvl</td>\n",
       "      <td>Reg</td>\n",
       "      <td>Lvl</td>\n",
       "      <td>AllPub</td>\n",
       "      <td>...</td>\n",
       "      <td>NaN</td>\n",
       "      <td>Gd</td>\n",
       "      <td>MnPrv</td>\n",
       "      <td>Shed</td>\n",
       "      <td>NaN</td>\n",
       "      <td>NaN</td>\n",
       "      <td>NaN</td>\n",
       "      <td>WD</td>\n",
       "      <td>Normal</td>\n",
       "      <td>NaN</td>\n",
       "    </tr>\n",
       "    <tr>\n",
       "      <th>freq</th>\n",
       "      <td>NaN</td>\n",
       "      <td>NaN</td>\n",
       "      <td>1611</td>\n",
       "      <td>NaN</td>\n",
       "      <td>NaN</td>\n",
       "      <td>2063</td>\n",
       "      <td>72</td>\n",
       "      <td>1300</td>\n",
       "      <td>1854</td>\n",
       "      <td>2070</td>\n",
       "      <td>...</td>\n",
       "      <td>NaN</td>\n",
       "      <td>4</td>\n",
       "      <td>233</td>\n",
       "      <td>74</td>\n",
       "      <td>NaN</td>\n",
       "      <td>NaN</td>\n",
       "      <td>NaN</td>\n",
       "      <td>1797</td>\n",
       "      <td>1695</td>\n",
       "      <td>NaN</td>\n",
       "    </tr>\n",
       "    <tr>\n",
       "      <th>mean</th>\n",
       "      <td>916.132176</td>\n",
       "      <td>60.556199</td>\n",
       "      <td>NaN</td>\n",
       "      <td>72.056475</td>\n",
       "      <td>10717.853353</td>\n",
       "      <td>NaN</td>\n",
       "      <td>NaN</td>\n",
       "      <td>NaN</td>\n",
       "      <td>NaN</td>\n",
       "      <td>NaN</td>\n",
       "      <td>...</td>\n",
       "      <td>2.299083</td>\n",
       "      <td>NaN</td>\n",
       "      <td>NaN</td>\n",
       "      <td>NaN</td>\n",
       "      <td>39.736614</td>\n",
       "      <td>6.287506</td>\n",
       "      <td>2007.851905</td>\n",
       "      <td>NaN</td>\n",
       "      <td>NaN</td>\n",
       "      <td>180967.284129</td>\n",
       "    </tr>\n",
       "    <tr>\n",
       "      <th>std</th>\n",
       "      <td>493.014670</td>\n",
       "      <td>159.924810</td>\n",
       "      <td>NaN</td>\n",
       "      <td>27.987475</td>\n",
       "      <td>9215.982306</td>\n",
       "      <td>NaN</td>\n",
       "      <td>NaN</td>\n",
       "      <td>NaN</td>\n",
       "      <td>NaN</td>\n",
       "      <td>NaN</td>\n",
       "      <td>...</td>\n",
       "      <td>37.411031</td>\n",
       "      <td>NaN</td>\n",
       "      <td>NaN</td>\n",
       "      <td>NaN</td>\n",
       "      <td>429.819512</td>\n",
       "      <td>2.690130</td>\n",
       "      <td>1.329705</td>\n",
       "      <td>NaN</td>\n",
       "      <td>NaN</td>\n",
       "      <td>78666.411112</td>\n",
       "    </tr>\n",
       "    <tr>\n",
       "      <th>min</th>\n",
       "      <td>1.000000</td>\n",
       "      <td>20.000000</td>\n",
       "      <td>NaN</td>\n",
       "      <td>21.000000</td>\n",
       "      <td>1300.000000</td>\n",
       "      <td>NaN</td>\n",
       "      <td>NaN</td>\n",
       "      <td>NaN</td>\n",
       "      <td>NaN</td>\n",
       "      <td>NaN</td>\n",
       "      <td>...</td>\n",
       "      <td>0.000000</td>\n",
       "      <td>NaN</td>\n",
       "      <td>NaN</td>\n",
       "      <td>NaN</td>\n",
       "      <td>0.000000</td>\n",
       "      <td>1.000000</td>\n",
       "      <td>2006.000000</td>\n",
       "      <td>NaN</td>\n",
       "      <td>NaN</td>\n",
       "      <td>34900.000000</td>\n",
       "    </tr>\n",
       "    <tr>\n",
       "      <th>25%</th>\n",
       "      <td>519.000000</td>\n",
       "      <td>20.000000</td>\n",
       "      <td>NaN</td>\n",
       "      <td>60.000000</td>\n",
       "      <td>7620.000000</td>\n",
       "      <td>NaN</td>\n",
       "      <td>NaN</td>\n",
       "      <td>NaN</td>\n",
       "      <td>NaN</td>\n",
       "      <td>NaN</td>\n",
       "      <td>...</td>\n",
       "      <td>0.000000</td>\n",
       "      <td>NaN</td>\n",
       "      <td>NaN</td>\n",
       "      <td>NaN</td>\n",
       "      <td>0.000000</td>\n",
       "      <td>5.000000</td>\n",
       "      <td>2007.000000</td>\n",
       "      <td>NaN</td>\n",
       "      <td>NaN</td>\n",
       "      <td>130000.000000</td>\n",
       "    </tr>\n",
       "    <tr>\n",
       "      <th>50%</th>\n",
       "      <td>932.000000</td>\n",
       "      <td>50.000000</td>\n",
       "      <td>NaN</td>\n",
       "      <td>70.000000</td>\n",
       "      <td>9492.000000</td>\n",
       "      <td>NaN</td>\n",
       "      <td>NaN</td>\n",
       "      <td>NaN</td>\n",
       "      <td>NaN</td>\n",
       "      <td>NaN</td>\n",
       "      <td>...</td>\n",
       "      <td>0.000000</td>\n",
       "      <td>NaN</td>\n",
       "      <td>NaN</td>\n",
       "      <td>NaN</td>\n",
       "      <td>0.000000</td>\n",
       "      <td>6.000000</td>\n",
       "      <td>2008.000000</td>\n",
       "      <td>NaN</td>\n",
       "      <td>NaN</td>\n",
       "      <td>163990.000000</td>\n",
       "    </tr>\n",
       "    <tr>\n",
       "      <th>75%</th>\n",
       "      <td>1302.000000</td>\n",
       "      <td>70.000000</td>\n",
       "      <td>NaN</td>\n",
       "      <td>83.000000</td>\n",
       "      <td>11601.000000</td>\n",
       "      <td>NaN</td>\n",
       "      <td>NaN</td>\n",
       "      <td>NaN</td>\n",
       "      <td>NaN</td>\n",
       "      <td>NaN</td>\n",
       "      <td>...</td>\n",
       "      <td>0.000000</td>\n",
       "      <td>NaN</td>\n",
       "      <td>NaN</td>\n",
       "      <td>NaN</td>\n",
       "      <td>0.000000</td>\n",
       "      <td>8.000000</td>\n",
       "      <td>2009.000000</td>\n",
       "      <td>NaN</td>\n",
       "      <td>NaN</td>\n",
       "      <td>214000.000000</td>\n",
       "    </tr>\n",
       "    <tr>\n",
       "      <th>max</th>\n",
       "      <td>1820.000000</td>\n",
       "      <td>7080.000000</td>\n",
       "      <td>NaN</td>\n",
       "      <td>313.000000</td>\n",
       "      <td>215245.000000</td>\n",
       "      <td>NaN</td>\n",
       "      <td>NaN</td>\n",
       "      <td>NaN</td>\n",
       "      <td>NaN</td>\n",
       "      <td>NaN</td>\n",
       "      <td>...</td>\n",
       "      <td>738.000000</td>\n",
       "      <td>NaN</td>\n",
       "      <td>NaN</td>\n",
       "      <td>NaN</td>\n",
       "      <td>15500.000000</td>\n",
       "      <td>12.000000</td>\n",
       "      <td>2010.000000</td>\n",
       "      <td>NaN</td>\n",
       "      <td>NaN</td>\n",
       "      <td>755000.000000</td>\n",
       "    </tr>\n",
       "  </tbody>\n",
       "</table>\n",
       "<p>11 rows × 81 columns</p>\n",
       "</div>"
      ],
      "text/plain": [
       "                 Id   Dwell_Type Zone_Class  LotFrontage        LotArea  \\\n",
       "count   2073.000000  2073.000000       2073  1753.000000    2073.000000   \n",
       "unique          NaN          NaN          5          NaN            NaN   \n",
       "top             NaN          NaN         RL          NaN            NaN   \n",
       "freq            NaN          NaN       1611          NaN            NaN   \n",
       "mean     916.132176    60.556199        NaN    72.056475   10717.853353   \n",
       "std      493.014670   159.924810        NaN    27.987475    9215.982306   \n",
       "min        1.000000    20.000000        NaN    21.000000    1300.000000   \n",
       "25%      519.000000    20.000000        NaN    60.000000    7620.000000   \n",
       "50%      932.000000    50.000000        NaN    70.000000    9492.000000   \n",
       "75%     1302.000000    70.000000        NaN    83.000000   11601.000000   \n",
       "max     1820.000000  7080.000000        NaN   313.000000  215245.000000   \n",
       "\n",
       "       Road_Type Alley Property_Shape LandContour Utilities  ...     PoolArea  \\\n",
       "count       2073   129           2073        2073      2073  ...  2073.000000   \n",
       "unique         2     2              4           4         2  ...          NaN   \n",
       "top         Pave  Grvl            Reg         Lvl    AllPub  ...          NaN   \n",
       "freq        2063    72           1300        1854      2070  ...          NaN   \n",
       "mean         NaN   NaN            NaN         NaN       NaN  ...     2.299083   \n",
       "std          NaN   NaN            NaN         NaN       NaN  ...    37.411031   \n",
       "min          NaN   NaN            NaN         NaN       NaN  ...     0.000000   \n",
       "25%          NaN   NaN            NaN         NaN       NaN  ...     0.000000   \n",
       "50%          NaN   NaN            NaN         NaN       NaN  ...     0.000000   \n",
       "75%          NaN   NaN            NaN         NaN       NaN  ...     0.000000   \n",
       "max          NaN   NaN            NaN         NaN       NaN  ...   738.000000   \n",
       "\n",
       "       PoolQC  Fence MiscFeature       MiscVal       MoSold       YrSold  \\\n",
       "count       8    404          80   2073.000000  2073.000000  2073.000000   \n",
       "unique      3      4           4           NaN          NaN          NaN   \n",
       "top        Gd  MnPrv        Shed           NaN          NaN          NaN   \n",
       "freq        4    233          74           NaN          NaN          NaN   \n",
       "mean      NaN    NaN         NaN     39.736614     6.287506  2007.851905   \n",
       "std       NaN    NaN         NaN    429.819512     2.690130     1.329705   \n",
       "min       NaN    NaN         NaN      0.000000     1.000000  2006.000000   \n",
       "25%       NaN    NaN         NaN      0.000000     5.000000  2007.000000   \n",
       "50%       NaN    NaN         NaN      0.000000     6.000000  2008.000000   \n",
       "75%       NaN    NaN         NaN      0.000000     8.000000  2009.000000   \n",
       "max       NaN    NaN         NaN  15500.000000    12.000000  2010.000000   \n",
       "\n",
       "        SaleType  SaleCondition  Property_Sale_Price  \n",
       "count       2073           2073          2073.000000  \n",
       "unique         9              6                  NaN  \n",
       "top           WD         Normal                  NaN  \n",
       "freq        1797           1695                  NaN  \n",
       "mean         NaN            NaN        180967.284129  \n",
       "std          NaN            NaN         78666.411112  \n",
       "min          NaN            NaN         34900.000000  \n",
       "25%          NaN            NaN        130000.000000  \n",
       "50%          NaN            NaN        163990.000000  \n",
       "75%          NaN            NaN        214000.000000  \n",
       "max          NaN            NaN        755000.000000  \n",
       "\n",
       "[11 rows x 81 columns]"
      ]
     },
     "execution_count": 9,
     "metadata": {},
     "output_type": "execute_result"
    }
   ],
   "source": [
    "df.describe(include='all')"
   ]
  },
  {
   "cell_type": "code",
   "execution_count": 10,
   "id": "0552171d",
   "metadata": {},
   "outputs": [
    {
     "data": {
      "text/plain": [
       "Index(['Id', 'Dwell_Type', 'Zone_Class', 'LotFrontage', 'LotArea', 'Road_Type',\n",
       "       'Alley', 'Property_Shape', 'LandContour', 'Utilities', 'LotConfig',\n",
       "       'LandSlope', 'Neighborhood', 'Condition1', 'Condition2',\n",
       "       'Dwelling_Type', 'HouseStyle', 'OverallQual', 'OverallCond',\n",
       "       'YearBuilt', 'YearRemodAdd', 'RoofStyle', 'RoofMatl', 'Exterior1st',\n",
       "       'Exterior2nd', 'MasVnrType', 'MasVnrArea', 'ExterQual', 'ExterCond',\n",
       "       'Foundation', 'BsmtQual', 'BsmtCond', 'BsmtExposure', 'BsmtFinType1',\n",
       "       'BsmtFinSF1', 'BsmtFinType2', 'BsmtFinSF2', 'BsmtUnfSF', 'TotalBsmtSF',\n",
       "       'Heating', 'HeatingQC', 'CentralAir', 'Electrical', '1stFlrSF',\n",
       "       '2ndFlrSF', 'LowQualFinSF', 'GrLivArea', 'BsmtFullBath', 'BsmtHalfBath',\n",
       "       'FullBath', 'HalfBath', 'BedroomAbvGr', 'KitchenAbvGr', 'KitchenQual',\n",
       "       'TotRmsAbvGrd', 'Functional', 'Fireplaces', 'FireplaceQu', 'GarageType',\n",
       "       'GarageYrBlt', 'GarageFinish', 'GarageCars', 'GarageArea', 'GarageQual',\n",
       "       'GarageCond', 'PavedDrive', 'WoodDeckSF', 'OpenPorchSF',\n",
       "       'EnclosedPorch', '3SsnPorch', 'ScreenPorch', 'PoolArea', 'PoolQC',\n",
       "       'Fence', 'MiscFeature', 'MiscVal', 'MoSold', 'YrSold', 'SaleType',\n",
       "       'SaleCondition', 'Property_Sale_Price'],\n",
       "      dtype='object')"
      ]
     },
     "execution_count": 10,
     "metadata": {},
     "output_type": "execute_result"
    }
   ],
   "source": [
    "df.columns"
   ]
  },
  {
   "cell_type": "code",
   "execution_count": 11,
   "id": "ff4da75e",
   "metadata": {},
   "outputs": [
    {
     "data": {
      "text/plain": [
       "(2073, 81)"
      ]
     },
     "execution_count": 11,
     "metadata": {},
     "output_type": "execute_result"
    }
   ],
   "source": [
    "df.shape"
   ]
  },
  {
   "cell_type": "code",
   "execution_count": 12,
   "id": "d11c566f",
   "metadata": {},
   "outputs": [
    {
     "data": {
      "text/html": [
       "<div>\n",
       "<style scoped>\n",
       "    .dataframe tbody tr th:only-of-type {\n",
       "        vertical-align: middle;\n",
       "    }\n",
       "\n",
       "    .dataframe tbody tr th {\n",
       "        vertical-align: top;\n",
       "    }\n",
       "\n",
       "    .dataframe thead th {\n",
       "        text-align: right;\n",
       "    }\n",
       "</style>\n",
       "<table border=\"1\" class=\"dataframe\">\n",
       "  <thead>\n",
       "    <tr style=\"text-align: right;\">\n",
       "      <th></th>\n",
       "      <th>Id</th>\n",
       "      <th>Dwell_Type</th>\n",
       "      <th>Zone_Class</th>\n",
       "      <th>LotFrontage</th>\n",
       "      <th>LotArea</th>\n",
       "      <th>Road_Type</th>\n",
       "      <th>Alley</th>\n",
       "      <th>Property_Shape</th>\n",
       "      <th>LandContour</th>\n",
       "      <th>Utilities</th>\n",
       "      <th>...</th>\n",
       "      <th>PoolArea</th>\n",
       "      <th>PoolQC</th>\n",
       "      <th>Fence</th>\n",
       "      <th>MiscFeature</th>\n",
       "      <th>MiscVal</th>\n",
       "      <th>MoSold</th>\n",
       "      <th>YrSold</th>\n",
       "      <th>SaleType</th>\n",
       "      <th>SaleCondition</th>\n",
       "      <th>Property_Sale_Price</th>\n",
       "    </tr>\n",
       "  </thead>\n",
       "  <tbody>\n",
       "    <tr>\n",
       "      <th>830</th>\n",
       "      <td>831</td>\n",
       "      <td>20</td>\n",
       "      <td>RL</td>\n",
       "      <td>80.0</td>\n",
       "      <td>11900</td>\n",
       "      <td>Pave</td>\n",
       "      <td>NaN</td>\n",
       "      <td>IR1</td>\n",
       "      <td>Lvl</td>\n",
       "      <td>AllPub</td>\n",
       "      <td>...</td>\n",
       "      <td>0</td>\n",
       "      <td>NaN</td>\n",
       "      <td>NaN</td>\n",
       "      <td>NaN</td>\n",
       "      <td>0</td>\n",
       "      <td>6</td>\n",
       "      <td>2008</td>\n",
       "      <td>WD</td>\n",
       "      <td>Normal</td>\n",
       "      <td>166000</td>\n",
       "    </tr>\n",
       "    <tr>\n",
       "      <th>344</th>\n",
       "      <td>345</td>\n",
       "      <td>160</td>\n",
       "      <td>RM</td>\n",
       "      <td>36.0</td>\n",
       "      <td>2592</td>\n",
       "      <td>Pave</td>\n",
       "      <td>NaN</td>\n",
       "      <td>Reg</td>\n",
       "      <td>Lvl</td>\n",
       "      <td>AllPub</td>\n",
       "      <td>...</td>\n",
       "      <td>0</td>\n",
       "      <td>NaN</td>\n",
       "      <td>NaN</td>\n",
       "      <td>NaN</td>\n",
       "      <td>0</td>\n",
       "      <td>4</td>\n",
       "      <td>2010</td>\n",
       "      <td>WD</td>\n",
       "      <td>Normal</td>\n",
       "      <td>85000</td>\n",
       "    </tr>\n",
       "    <tr>\n",
       "      <th>2037</th>\n",
       "      <td>911</td>\n",
       "      <td>90</td>\n",
       "      <td>RL</td>\n",
       "      <td>52.0</td>\n",
       "      <td>11600</td>\n",
       "      <td>Pave</td>\n",
       "      <td>NaN</td>\n",
       "      <td>Reg</td>\n",
       "      <td>Lvl</td>\n",
       "      <td>AllPub</td>\n",
       "      <td>...</td>\n",
       "      <td>0</td>\n",
       "      <td>NaN</td>\n",
       "      <td>NaN</td>\n",
       "      <td>NaN</td>\n",
       "      <td>0</td>\n",
       "      <td>1</td>\n",
       "      <td>2010</td>\n",
       "      <td>WD</td>\n",
       "      <td>Normal</td>\n",
       "      <td>154300</td>\n",
       "    </tr>\n",
       "    <tr>\n",
       "      <th>191</th>\n",
       "      <td>192</td>\n",
       "      <td>60</td>\n",
       "      <td>RL</td>\n",
       "      <td>NaN</td>\n",
       "      <td>7472</td>\n",
       "      <td>Pave</td>\n",
       "      <td>NaN</td>\n",
       "      <td>IR1</td>\n",
       "      <td>Lvl</td>\n",
       "      <td>AllPub</td>\n",
       "      <td>...</td>\n",
       "      <td>0</td>\n",
       "      <td>NaN</td>\n",
       "      <td>NaN</td>\n",
       "      <td>NaN</td>\n",
       "      <td>0</td>\n",
       "      <td>6</td>\n",
       "      <td>2007</td>\n",
       "      <td>WD</td>\n",
       "      <td>Normal</td>\n",
       "      <td>184000</td>\n",
       "    </tr>\n",
       "    <tr>\n",
       "      <th>1613</th>\n",
       "      <td>1614</td>\n",
       "      <td>70</td>\n",
       "      <td>RM</td>\n",
       "      <td>91.0</td>\n",
       "      <td>11798</td>\n",
       "      <td>Pave</td>\n",
       "      <td>NaN</td>\n",
       "      <td>Reg</td>\n",
       "      <td>Lvl</td>\n",
       "      <td>AllPub</td>\n",
       "      <td>...</td>\n",
       "      <td>0</td>\n",
       "      <td>NaN</td>\n",
       "      <td>NaN</td>\n",
       "      <td>NaN</td>\n",
       "      <td>0</td>\n",
       "      <td>5</td>\n",
       "      <td>2007</td>\n",
       "      <td>WD</td>\n",
       "      <td>Normal</td>\n",
       "      <td>137500</td>\n",
       "    </tr>\n",
       "    <tr>\n",
       "      <th>134</th>\n",
       "      <td>135</td>\n",
       "      <td>20</td>\n",
       "      <td>RL</td>\n",
       "      <td>78.0</td>\n",
       "      <td>10335</td>\n",
       "      <td>Pave</td>\n",
       "      <td>NaN</td>\n",
       "      <td>IR1</td>\n",
       "      <td>Lvl</td>\n",
       "      <td>AllPub</td>\n",
       "      <td>...</td>\n",
       "      <td>0</td>\n",
       "      <td>NaN</td>\n",
       "      <td>MnPrv</td>\n",
       "      <td>NaN</td>\n",
       "      <td>0</td>\n",
       "      <td>7</td>\n",
       "      <td>2006</td>\n",
       "      <td>WD</td>\n",
       "      <td>Normal</td>\n",
       "      <td>180000</td>\n",
       "    </tr>\n",
       "    <tr>\n",
       "      <th>1667</th>\n",
       "      <td>1668</td>\n",
       "      <td>20</td>\n",
       "      <td>RL</td>\n",
       "      <td>72.0</td>\n",
       "      <td>11601</td>\n",
       "      <td>Pave</td>\n",
       "      <td>NaN</td>\n",
       "      <td>Reg</td>\n",
       "      <td>Lvl</td>\n",
       "      <td>AllPub</td>\n",
       "      <td>...</td>\n",
       "      <td>0</td>\n",
       "      <td>NaN</td>\n",
       "      <td>NaN</td>\n",
       "      <td>NaN</td>\n",
       "      <td>0</td>\n",
       "      <td>5</td>\n",
       "      <td>2009</td>\n",
       "      <td>New</td>\n",
       "      <td>Partial</td>\n",
       "      <td>287090</td>\n",
       "    </tr>\n",
       "    <tr>\n",
       "      <th>1562</th>\n",
       "      <td>1563</td>\n",
       "      <td>60</td>\n",
       "      <td>RL</td>\n",
       "      <td>77.0</td>\n",
       "      <td>5448</td>\n",
       "      <td>Pave</td>\n",
       "      <td>NaN</td>\n",
       "      <td>Reg</td>\n",
       "      <td>Lvl</td>\n",
       "      <td>AllPub</td>\n",
       "      <td>...</td>\n",
       "      <td>0</td>\n",
       "      <td>NaN</td>\n",
       "      <td>NaN</td>\n",
       "      <td>NaN</td>\n",
       "      <td>0</td>\n",
       "      <td>6</td>\n",
       "      <td>2010</td>\n",
       "      <td>WD</td>\n",
       "      <td>Normal</td>\n",
       "      <td>178000</td>\n",
       "    </tr>\n",
       "    <tr>\n",
       "      <th>1991</th>\n",
       "      <td>1037</td>\n",
       "      <td>20</td>\n",
       "      <td>RL</td>\n",
       "      <td>89.0</td>\n",
       "      <td>12898</td>\n",
       "      <td>Pave</td>\n",
       "      <td>NaN</td>\n",
       "      <td>IR1</td>\n",
       "      <td>HLS</td>\n",
       "      <td>AllPub</td>\n",
       "      <td>...</td>\n",
       "      <td>0</td>\n",
       "      <td>NaN</td>\n",
       "      <td>NaN</td>\n",
       "      <td>NaN</td>\n",
       "      <td>0</td>\n",
       "      <td>9</td>\n",
       "      <td>2009</td>\n",
       "      <td>WD</td>\n",
       "      <td>Normal</td>\n",
       "      <td>315500</td>\n",
       "    </tr>\n",
       "    <tr>\n",
       "      <th>1251</th>\n",
       "      <td>1252</td>\n",
       "      <td>120</td>\n",
       "      <td>RL</td>\n",
       "      <td>NaN</td>\n",
       "      <td>3136</td>\n",
       "      <td>Pave</td>\n",
       "      <td>NaN</td>\n",
       "      <td>IR1</td>\n",
       "      <td>Lvl</td>\n",
       "      <td>AllPub</td>\n",
       "      <td>...</td>\n",
       "      <td>0</td>\n",
       "      <td>NaN</td>\n",
       "      <td>NaN</td>\n",
       "      <td>NaN</td>\n",
       "      <td>0</td>\n",
       "      <td>3</td>\n",
       "      <td>2006</td>\n",
       "      <td>WD</td>\n",
       "      <td>Normal</td>\n",
       "      <td>171750</td>\n",
       "    </tr>\n",
       "  </tbody>\n",
       "</table>\n",
       "<p>10 rows × 81 columns</p>\n",
       "</div>"
      ],
      "text/plain": [
       "        Id  Dwell_Type Zone_Class  LotFrontage  LotArea Road_Type Alley  \\\n",
       "830    831          20         RL         80.0    11900      Pave   NaN   \n",
       "344    345         160         RM         36.0     2592      Pave   NaN   \n",
       "2037   911          90         RL         52.0    11600      Pave   NaN   \n",
       "191    192          60         RL          NaN     7472      Pave   NaN   \n",
       "1613  1614          70         RM         91.0    11798      Pave   NaN   \n",
       "134    135          20         RL         78.0    10335      Pave   NaN   \n",
       "1667  1668          20         RL         72.0    11601      Pave   NaN   \n",
       "1562  1563          60         RL         77.0     5448      Pave   NaN   \n",
       "1991  1037          20         RL         89.0    12898      Pave   NaN   \n",
       "1251  1252         120         RL          NaN     3136      Pave   NaN   \n",
       "\n",
       "     Property_Shape LandContour Utilities  ... PoolArea PoolQC  Fence  \\\n",
       "830             IR1         Lvl    AllPub  ...        0    NaN    NaN   \n",
       "344             Reg         Lvl    AllPub  ...        0    NaN    NaN   \n",
       "2037            Reg         Lvl    AllPub  ...        0    NaN    NaN   \n",
       "191             IR1         Lvl    AllPub  ...        0    NaN    NaN   \n",
       "1613            Reg         Lvl    AllPub  ...        0    NaN    NaN   \n",
       "134             IR1         Lvl    AllPub  ...        0    NaN  MnPrv   \n",
       "1667            Reg         Lvl    AllPub  ...        0    NaN    NaN   \n",
       "1562            Reg         Lvl    AllPub  ...        0    NaN    NaN   \n",
       "1991            IR1         HLS    AllPub  ...        0    NaN    NaN   \n",
       "1251            IR1         Lvl    AllPub  ...        0    NaN    NaN   \n",
       "\n",
       "     MiscFeature MiscVal MoSold YrSold  SaleType  SaleCondition  \\\n",
       "830          NaN       0      6   2008        WD         Normal   \n",
       "344          NaN       0      4   2010        WD         Normal   \n",
       "2037         NaN       0      1   2010        WD         Normal   \n",
       "191          NaN       0      6   2007        WD         Normal   \n",
       "1613         NaN       0      5   2007        WD         Normal   \n",
       "134          NaN       0      7   2006        WD         Normal   \n",
       "1667         NaN       0      5   2009       New        Partial   \n",
       "1562         NaN       0      6   2010        WD         Normal   \n",
       "1991         NaN       0      9   2009        WD         Normal   \n",
       "1251         NaN       0      3   2006        WD         Normal   \n",
       "\n",
       "      Property_Sale_Price  \n",
       "830                166000  \n",
       "344                 85000  \n",
       "2037               154300  \n",
       "191                184000  \n",
       "1613               137500  \n",
       "134                180000  \n",
       "1667               287090  \n",
       "1562               178000  \n",
       "1991               315500  \n",
       "1251               171750  \n",
       "\n",
       "[10 rows x 81 columns]"
      ]
     },
     "execution_count": 12,
     "metadata": {},
     "output_type": "execute_result"
    }
   ],
   "source": [
    "df.sample(10)"
   ]
  },
  {
   "cell_type": "code",
   "execution_count": 13,
   "id": "cb42d9e9",
   "metadata": {},
   "outputs": [
    {
     "data": {
      "text/html": [
       "<div>\n",
       "<style scoped>\n",
       "    .dataframe tbody tr th:only-of-type {\n",
       "        vertical-align: middle;\n",
       "    }\n",
       "\n",
       "    .dataframe tbody tr th {\n",
       "        vertical-align: top;\n",
       "    }\n",
       "\n",
       "    .dataframe thead th {\n",
       "        text-align: right;\n",
       "    }\n",
       "</style>\n",
       "<table border=\"1\" class=\"dataframe\">\n",
       "  <thead>\n",
       "    <tr style=\"text-align: right;\">\n",
       "      <th></th>\n",
       "      <th>Id</th>\n",
       "      <th>Dwell_Type</th>\n",
       "      <th>Zone_Class</th>\n",
       "      <th>LotFrontage</th>\n",
       "      <th>LotArea</th>\n",
       "      <th>Road_Type</th>\n",
       "      <th>Alley</th>\n",
       "      <th>Property_Shape</th>\n",
       "      <th>LandContour</th>\n",
       "      <th>Utilities</th>\n",
       "      <th>...</th>\n",
       "      <th>PoolArea</th>\n",
       "      <th>PoolQC</th>\n",
       "      <th>Fence</th>\n",
       "      <th>MiscFeature</th>\n",
       "      <th>MiscVal</th>\n",
       "      <th>MoSold</th>\n",
       "      <th>YrSold</th>\n",
       "      <th>SaleType</th>\n",
       "      <th>SaleCondition</th>\n",
       "      <th>Property_Sale_Price</th>\n",
       "    </tr>\n",
       "  </thead>\n",
       "  <tbody>\n",
       "    <tr>\n",
       "      <th>0</th>\n",
       "      <td>1</td>\n",
       "      <td>60</td>\n",
       "      <td>RL</td>\n",
       "      <td>65.0</td>\n",
       "      <td>8450</td>\n",
       "      <td>Pave</td>\n",
       "      <td>NaN</td>\n",
       "      <td>Reg</td>\n",
       "      <td>Lvl</td>\n",
       "      <td>AllPub</td>\n",
       "      <td>...</td>\n",
       "      <td>0</td>\n",
       "      <td>NaN</td>\n",
       "      <td>NaN</td>\n",
       "      <td>NaN</td>\n",
       "      <td>0</td>\n",
       "      <td>2</td>\n",
       "      <td>2008</td>\n",
       "      <td>WD</td>\n",
       "      <td>Normal</td>\n",
       "      <td>208500</td>\n",
       "    </tr>\n",
       "    <tr>\n",
       "      <th>1</th>\n",
       "      <td>2</td>\n",
       "      <td>20</td>\n",
       "      <td>RL</td>\n",
       "      <td>80.0</td>\n",
       "      <td>9600</td>\n",
       "      <td>Pave</td>\n",
       "      <td>NaN</td>\n",
       "      <td>Reg</td>\n",
       "      <td>Lvl</td>\n",
       "      <td>AllPub</td>\n",
       "      <td>...</td>\n",
       "      <td>0</td>\n",
       "      <td>NaN</td>\n",
       "      <td>NaN</td>\n",
       "      <td>NaN</td>\n",
       "      <td>0</td>\n",
       "      <td>5</td>\n",
       "      <td>2007</td>\n",
       "      <td>WD</td>\n",
       "      <td>Normal</td>\n",
       "      <td>181500</td>\n",
       "    </tr>\n",
       "    <tr>\n",
       "      <th>2</th>\n",
       "      <td>3</td>\n",
       "      <td>60</td>\n",
       "      <td>RL</td>\n",
       "      <td>68.0</td>\n",
       "      <td>11250</td>\n",
       "      <td>Pave</td>\n",
       "      <td>NaN</td>\n",
       "      <td>IR1</td>\n",
       "      <td>Lvl</td>\n",
       "      <td>AllPub</td>\n",
       "      <td>...</td>\n",
       "      <td>0</td>\n",
       "      <td>NaN</td>\n",
       "      <td>NaN</td>\n",
       "      <td>NaN</td>\n",
       "      <td>0</td>\n",
       "      <td>9</td>\n",
       "      <td>2008</td>\n",
       "      <td>WD</td>\n",
       "      <td>Normal</td>\n",
       "      <td>223500</td>\n",
       "    </tr>\n",
       "    <tr>\n",
       "      <th>3</th>\n",
       "      <td>4</td>\n",
       "      <td>70</td>\n",
       "      <td>RL</td>\n",
       "      <td>60.0</td>\n",
       "      <td>9550</td>\n",
       "      <td>Pave</td>\n",
       "      <td>NaN</td>\n",
       "      <td>IR1</td>\n",
       "      <td>Lvl</td>\n",
       "      <td>AllPub</td>\n",
       "      <td>...</td>\n",
       "      <td>0</td>\n",
       "      <td>NaN</td>\n",
       "      <td>NaN</td>\n",
       "      <td>NaN</td>\n",
       "      <td>0</td>\n",
       "      <td>2</td>\n",
       "      <td>2006</td>\n",
       "      <td>WD</td>\n",
       "      <td>Abnorml</td>\n",
       "      <td>140000</td>\n",
       "    </tr>\n",
       "    <tr>\n",
       "      <th>4</th>\n",
       "      <td>5</td>\n",
       "      <td>60</td>\n",
       "      <td>RL</td>\n",
       "      <td>84.0</td>\n",
       "      <td>14260</td>\n",
       "      <td>Pave</td>\n",
       "      <td>NaN</td>\n",
       "      <td>IR1</td>\n",
       "      <td>Lvl</td>\n",
       "      <td>AllPub</td>\n",
       "      <td>...</td>\n",
       "      <td>0</td>\n",
       "      <td>NaN</td>\n",
       "      <td>NaN</td>\n",
       "      <td>NaN</td>\n",
       "      <td>0</td>\n",
       "      <td>12</td>\n",
       "      <td>2008</td>\n",
       "      <td>WD</td>\n",
       "      <td>Normal</td>\n",
       "      <td>250000</td>\n",
       "    </tr>\n",
       "    <tr>\n",
       "      <th>...</th>\n",
       "      <td>...</td>\n",
       "      <td>...</td>\n",
       "      <td>...</td>\n",
       "      <td>...</td>\n",
       "      <td>...</td>\n",
       "      <td>...</td>\n",
       "      <td>...</td>\n",
       "      <td>...</td>\n",
       "      <td>...</td>\n",
       "      <td>...</td>\n",
       "      <td>...</td>\n",
       "      <td>...</td>\n",
       "      <td>...</td>\n",
       "      <td>...</td>\n",
       "      <td>...</td>\n",
       "      <td>...</td>\n",
       "      <td>...</td>\n",
       "      <td>...</td>\n",
       "      <td>...</td>\n",
       "      <td>...</td>\n",
       "      <td>...</td>\n",
       "    </tr>\n",
       "    <tr>\n",
       "      <th>2068</th>\n",
       "      <td>942</td>\n",
       "      <td>60</td>\n",
       "      <td>RL</td>\n",
       "      <td>NaN</td>\n",
       "      <td>8755</td>\n",
       "      <td>Pave</td>\n",
       "      <td>NaN</td>\n",
       "      <td>IR1</td>\n",
       "      <td>Lvl</td>\n",
       "      <td>AllPub</td>\n",
       "      <td>...</td>\n",
       "      <td>0</td>\n",
       "      <td>NaN</td>\n",
       "      <td>GdPrv</td>\n",
       "      <td>NaN</td>\n",
       "      <td>0</td>\n",
       "      <td>6</td>\n",
       "      <td>2009</td>\n",
       "      <td>WD</td>\n",
       "      <td>Normal</td>\n",
       "      <td>214000</td>\n",
       "    </tr>\n",
       "    <tr>\n",
       "      <th>2069</th>\n",
       "      <td>943</td>\n",
       "      <td>90</td>\n",
       "      <td>RL</td>\n",
       "      <td>63.0</td>\n",
       "      <td>7711</td>\n",
       "      <td>Pave</td>\n",
       "      <td>NaN</td>\n",
       "      <td>IR1</td>\n",
       "      <td>Lvl</td>\n",
       "      <td>AllPub</td>\n",
       "      <td>...</td>\n",
       "      <td>0</td>\n",
       "      <td>NaN</td>\n",
       "      <td>NaN</td>\n",
       "      <td>NaN</td>\n",
       "      <td>0</td>\n",
       "      <td>8</td>\n",
       "      <td>2007</td>\n",
       "      <td>Oth</td>\n",
       "      <td>Abnorml</td>\n",
       "      <td>150000</td>\n",
       "    </tr>\n",
       "    <tr>\n",
       "      <th>2070</th>\n",
       "      <td>944</td>\n",
       "      <td>90</td>\n",
       "      <td>RL</td>\n",
       "      <td>313.0</td>\n",
       "      <td>25000</td>\n",
       "      <td>Pave</td>\n",
       "      <td>NaN</td>\n",
       "      <td>Reg</td>\n",
       "      <td>Low</td>\n",
       "      <td>AllPub</td>\n",
       "      <td>...</td>\n",
       "      <td>0</td>\n",
       "      <td>NaN</td>\n",
       "      <td>NaN</td>\n",
       "      <td>NaN</td>\n",
       "      <td>0</td>\n",
       "      <td>6</td>\n",
       "      <td>2007</td>\n",
       "      <td>WD</td>\n",
       "      <td>Normal</td>\n",
       "      <td>143000</td>\n",
       "    </tr>\n",
       "    <tr>\n",
       "      <th>2071</th>\n",
       "      <td>945</td>\n",
       "      <td>20</td>\n",
       "      <td>RL</td>\n",
       "      <td>52.0</td>\n",
       "      <td>14375</td>\n",
       "      <td>Pave</td>\n",
       "      <td>NaN</td>\n",
       "      <td>IR1</td>\n",
       "      <td>Lvl</td>\n",
       "      <td>NoSeWa</td>\n",
       "      <td>...</td>\n",
       "      <td>0</td>\n",
       "      <td>NaN</td>\n",
       "      <td>NaN</td>\n",
       "      <td>NaN</td>\n",
       "      <td>0</td>\n",
       "      <td>1</td>\n",
       "      <td>2009</td>\n",
       "      <td>COD</td>\n",
       "      <td>Abnorml</td>\n",
       "      <td>137500</td>\n",
       "    </tr>\n",
       "    <tr>\n",
       "      <th>2072</th>\n",
       "      <td>946</td>\n",
       "      <td>50</td>\n",
       "      <td>RM</td>\n",
       "      <td>98.0</td>\n",
       "      <td>8820</td>\n",
       "      <td>Pave</td>\n",
       "      <td>NaN</td>\n",
       "      <td>Reg</td>\n",
       "      <td>Lvl</td>\n",
       "      <td>AllPub</td>\n",
       "      <td>...</td>\n",
       "      <td>0</td>\n",
       "      <td>NaN</td>\n",
       "      <td>MnWw</td>\n",
       "      <td>NaN</td>\n",
       "      <td>0</td>\n",
       "      <td>9</td>\n",
       "      <td>2009</td>\n",
       "      <td>WD</td>\n",
       "      <td>Normal</td>\n",
       "      <td>124900</td>\n",
       "    </tr>\n",
       "  </tbody>\n",
       "</table>\n",
       "<p>2060 rows × 81 columns</p>\n",
       "</div>"
      ],
      "text/plain": [
       "       Id  Dwell_Type Zone_Class  LotFrontage  LotArea Road_Type Alley  \\\n",
       "0       1          60         RL         65.0     8450      Pave   NaN   \n",
       "1       2          20         RL         80.0     9600      Pave   NaN   \n",
       "2       3          60         RL         68.0    11250      Pave   NaN   \n",
       "3       4          70         RL         60.0     9550      Pave   NaN   \n",
       "4       5          60         RL         84.0    14260      Pave   NaN   \n",
       "...   ...         ...        ...          ...      ...       ...   ...   \n",
       "2068  942          60         RL          NaN     8755      Pave   NaN   \n",
       "2069  943          90         RL         63.0     7711      Pave   NaN   \n",
       "2070  944          90         RL        313.0    25000      Pave   NaN   \n",
       "2071  945          20         RL         52.0    14375      Pave   NaN   \n",
       "2072  946          50         RM         98.0     8820      Pave   NaN   \n",
       "\n",
       "     Property_Shape LandContour Utilities  ... PoolArea PoolQC  Fence  \\\n",
       "0               Reg         Lvl    AllPub  ...        0    NaN    NaN   \n",
       "1               Reg         Lvl    AllPub  ...        0    NaN    NaN   \n",
       "2               IR1         Lvl    AllPub  ...        0    NaN    NaN   \n",
       "3               IR1         Lvl    AllPub  ...        0    NaN    NaN   \n",
       "4               IR1         Lvl    AllPub  ...        0    NaN    NaN   \n",
       "...             ...         ...       ...  ...      ...    ...    ...   \n",
       "2068            IR1         Lvl    AllPub  ...        0    NaN  GdPrv   \n",
       "2069            IR1         Lvl    AllPub  ...        0    NaN    NaN   \n",
       "2070            Reg         Low    AllPub  ...        0    NaN    NaN   \n",
       "2071            IR1         Lvl    NoSeWa  ...        0    NaN    NaN   \n",
       "2072            Reg         Lvl    AllPub  ...        0    NaN   MnWw   \n",
       "\n",
       "     MiscFeature MiscVal MoSold YrSold  SaleType  SaleCondition  \\\n",
       "0            NaN       0      2   2008        WD         Normal   \n",
       "1            NaN       0      5   2007        WD         Normal   \n",
       "2            NaN       0      9   2008        WD         Normal   \n",
       "3            NaN       0      2   2006        WD        Abnorml   \n",
       "4            NaN       0     12   2008        WD         Normal   \n",
       "...          ...     ...    ...    ...       ...            ...   \n",
       "2068         NaN       0      6   2009        WD         Normal   \n",
       "2069         NaN       0      8   2007       Oth        Abnorml   \n",
       "2070         NaN       0      6   2007        WD         Normal   \n",
       "2071         NaN       0      1   2009       COD        Abnorml   \n",
       "2072         NaN       0      9   2009        WD         Normal   \n",
       "\n",
       "      Property_Sale_Price  \n",
       "0                  208500  \n",
       "1                  181500  \n",
       "2                  223500  \n",
       "3                  140000  \n",
       "4                  250000  \n",
       "...                   ...  \n",
       "2068               214000  \n",
       "2069               150000  \n",
       "2070               143000  \n",
       "2071               137500  \n",
       "2072               124900  \n",
       "\n",
       "[2060 rows x 81 columns]"
      ]
     },
     "execution_count": 13,
     "metadata": {},
     "output_type": "execute_result"
    }
   ],
   "source": [
    "df.drop_duplicates()"
   ]
  },
  {
   "cell_type": "code",
   "execution_count": 14,
   "id": "c467022e",
   "metadata": {},
   "outputs": [],
   "source": [
    "# Since there are duplicates we are droping them:\n",
    "df.drop_duplicates(keep=\"first\", inplace=True)"
   ]
  },
  {
   "cell_type": "code",
   "execution_count": 15,
   "id": "6d92fbb8",
   "metadata": {},
   "outputs": [
    {
     "name": "stdout",
     "output_type": "stream",
     "text": [
      "Id = 0 int64\n",
      "Dwell_Type = 0 int64\n",
      "Zone_Class = 0 object\n",
      "LotFrontage = 317 float64\n",
      "LotArea = 0 int64\n",
      "Road_Type = 0 object\n",
      "Alley = 1932 object\n",
      "Property_Shape = 0 object\n",
      "LandContour = 0 object\n",
      "Utilities = 0 object\n",
      "LotConfig = 0 object\n",
      "LandSlope = 0 object\n",
      "Neighborhood = 0 object\n",
      "Condition1 = 0 object\n",
      "Condition2 = 0 object\n",
      "Dwelling_Type = 0 object\n",
      "HouseStyle = 0 object\n",
      "OverallQual = 0 int64\n",
      "OverallCond = 0 int64\n",
      "YearBuilt = 0 int64\n",
      "YearRemodAdd = 0 int64\n",
      "RoofStyle = 0 object\n",
      "RoofMatl = 0 object\n",
      "Exterior1st = 0 object\n",
      "Exterior2nd = 0 object\n",
      "MasVnrType = 14 object\n",
      "MasVnrArea = 14 float64\n",
      "ExterQual = 0 object\n",
      "ExterCond = 0 object\n",
      "Foundation = 0 object\n",
      "BsmtQual = 58 object\n",
      "BsmtCond = 58 object\n",
      "BsmtExposure = 60 object\n",
      "BsmtFinType1 = 58 object\n",
      "BsmtFinSF1 = 0 int64\n",
      "BsmtFinType2 = 59 object\n",
      "BsmtFinSF2 = 0 int64\n",
      "BsmtUnfSF = 0 int64\n",
      "TotalBsmtSF = 0 int64\n",
      "Heating = 0 object\n",
      "HeatingQC = 0 object\n",
      "CentralAir = 0 object\n",
      "Electrical = 1 object\n",
      "1stFlrSF = 0 int64\n",
      "2ndFlrSF = 0 int64\n",
      "LowQualFinSF = 0 int64\n",
      "GrLivArea = 0 int64\n",
      "BsmtFullBath = 0 int64\n",
      "BsmtHalfBath = 0 int64\n",
      "FullBath = 0 int64\n",
      "HalfBath = 0 int64\n",
      "BedroomAbvGr = 0 int64\n",
      "KitchenAbvGr = 0 int64\n",
      "KitchenQual = 0 object\n",
      "TotRmsAbvGrd = 0 int64\n",
      "Functional = 0 object\n",
      "Fireplaces = 0 int64\n",
      "FireplaceQu = 977 object\n",
      "GarageType = 113 object\n",
      "GarageYrBlt = 113 float64\n",
      "GarageFinish = 113 object\n",
      "GarageCars = 0 int64\n",
      "GarageArea = 0 int64\n",
      "GarageQual = 113 object\n",
      "GarageCond = 113 object\n",
      "PavedDrive = 0 object\n",
      "WoodDeckSF = 0 int64\n",
      "OpenPorchSF = 0 int64\n",
      "EnclosedPorch = 0 int64\n",
      "3SsnPorch = 0 int64\n",
      "ScreenPorch = 0 int64\n",
      "PoolArea = 0 int64\n",
      "PoolQC = 2052 object\n",
      "Fence = 1659 object\n",
      "MiscFeature = 1981 object\n",
      "MiscVal = 0 int64\n",
      "MoSold = 0 int64\n",
      "YrSold = 0 int64\n",
      "SaleType = 0 object\n",
      "SaleCondition = 0 object\n",
      "Property_Sale_Price = 0 int64\n"
     ]
    }
   ],
   "source": [
    "# Checking for Null Values:\n",
    "for i in df.columns:\n",
    "    print(i,'=',df[i].isnull().sum(),df[i].dtype)"
   ]
  },
  {
   "cell_type": "code",
   "execution_count": 16,
   "id": "ea4b5a52",
   "metadata": {},
   "outputs": [
    {
     "data": {
      "text/plain": [
       "<AxesSubplot:>"
      ]
     },
     "execution_count": 16,
     "metadata": {},
     "output_type": "execute_result"
    },
    {
     "data": {
      "image/png": "[encoded data removed]",
      "text/plain": [
       "<Figure size 432x288 with 2 Axes>"
      ]
     },
     "metadata": {
      "needs_background": "light"
     },
     "output_type": "display_data"
    }
   ],
   "source": [
    "sns.heatmap(df.isnull(),yticklabels=False,cmap=\"viridis\")"
   ]
  },
  {
   "cell_type": "code",
   "execution_count": 17,
   "id": "7f386821",
   "metadata": {},
   "outputs": [],
   "source": [
    "# Dropping Columns with higher missing values:\n",
    "df.drop(['Alley','FireplaceQu','PoolQC','Fence','MiscFeature'],axis=1,inplace=True)"
   ]
  },
  {
   "cell_type": "code",
   "execution_count": 18,
   "id": "816b8839",
   "metadata": {},
   "outputs": [],
   "source": [
    "# Treating remaining Null Values:\n",
    "for i in df.columns:\n",
    "    if df[i].dtype in [\"int64\",\"float64\"]:\n",
    "        df[i].fillna(df[i].median(),inplace=True)\n",
    "    else:\n",
    "        df[i].fillna(df[i].mode()[0],inplace=True)"
   ]
  },
  {
   "cell_type": "code",
   "execution_count": 19,
   "id": "f4fffd8c",
   "metadata": {},
   "outputs": [
    {
     "data": {
      "text/plain": [
       "0"
      ]
     },
     "execution_count": 19,
     "metadata": {},
     "output_type": "execute_result"
    }
   ],
   "source": [
    "# Re-Checking for Null Values:\n",
    "df.isnull().sum().sum() #Null values are been delt with."
   ]
  },
  {
   "cell_type": "code",
   "execution_count": 20,
   "id": "2bcde123",
   "metadata": {},
   "outputs": [
    {
     "data": {
      "image/png": "[encoded data removed]",
      "text/plain": [
       "<Figure size 432x288 with 1 Axes>"
      ]
     },
     "metadata": {
      "needs_background": "light"
     },
     "output_type": "display_data"
    },
    {
     "data": {
      "image/png": "[encoded data removed]",
      "text/plain": [
       "<Figure size 432x288 with 1 Axes>"
      ]
     },
     "metadata": {
      "needs_background": "light"
     },
     "output_type": "display_data"
    },
    {
     "data": {
      "image/png": "[encoded data removed]",
      "text/plain": [
       "<Figure size 432x288 with 1 Axes>"
      ]
     },
     "metadata": {
      "needs_background": "light"
     },
     "output_type": "display_data"
    },
    {
     "data": {
      "image/png": "[encoded data removed]",
      "text/plain": [
       "<Figure size 432x288 with 1 Axes>"
      ]
     },
     "metadata": {
      "needs_background": "light"
     },
     "output_type": "display_data"
    },
    {
     "data": {
      "image/png": "[encoded data removed]",
      "text/plain": [
       "<Figure size 432x288 with 1 Axes>"
      ]
     },
     "metadata": {
      "needs_background": "light"
     },
     "output_type": "display_data"
    },
    {
     "data": {
      "image/png": "[encoded data removed]",
      "text/plain": [
       "<Figure size 432x288 with 1 Axes>"
      ]
     },
     "metadata": {
      "needs_background": "light"
     },
     "output_type": "display_data"
    },
    {
     "data": {
      "image/png": "[encoded data removed]",
      "text/plain": [
       "<Figure size 432x288 with 1 Axes>"
      ]
     },
     "metadata": {
      "needs_background": "light"
     },
     "output_type": "display_data"
    },
    {
     "data": {
      "image/png": "[encoded data removed]",
      "text/plain": [
       "<Figure size 432x288 with 1 Axes>"
      ]
     },
     "metadata": {
      "needs_background": "light"
     },
     "output_type": "display_data"
    },
    {
     "data": {
      "image/png": "[encoded data removed]",
      "text/plain": [
       "<Figure size 432x288 with 1 Axes>"
      ]
     },
     "metadata": {
      "needs_background": "light"
     },
     "output_type": "display_data"
    },
    {
     "data": {
      "image/png": "[encoded data removed]",
      "text/plain": [
       "<Figure size 432x288 with 1 Axes>"
      ]
     },
     "metadata": {
      "needs_background": "light"
     },
     "output_type": "display_data"
    },
    {
     "data": {
      "image/png": "[encoded data removed]",
      "text/plain": [
       "<Figure size 432x288 with 1 Axes>"
      ]
     },
     "metadata": {
      "needs_background": "light"
     },
     "output_type": "display_data"
    },
    {
     "data": {
      "image/png": "[encoded data removed]",
      "text/plain": [
       "<Figure size 432x288 with 1 Axes>"
      ]
     },
     "metadata": {
      "needs_background": "light"
     },
     "output_type": "display_data"
    },
    {
     "data": {
      "image/png": "[encoded data removed]",
      "text/plain": [
       "<Figure size 432x288 with 1 Axes>"
      ]
     },
     "metadata": {
      "needs_background": "light"
     },
     "output_type": "display_data"
    },
    {
     "data": {
      "image/png": "[encoded data removed]",
      "text/plain": [
       "<Figure size 432x288 with 1 Axes>"
      ]
     },
     "metadata": {
      "needs_background": "light"
     },
     "output_type": "display_data"
    },
    {
     "data": {
      "image/png": "[encoded data removed]",
      "text/plain": [
       "<Figure size 432x288 with 1 Axes>"
      ]
     },
     "metadata": {
      "needs_background": "light"
     },
     "output_type": "display_data"
    },
    {
     "data": {
      "image/png": "[encoded data removed]",
      "text/plain": [
       "<Figure size 432x288 with 1 Axes>"
      ]
     },
     "metadata": {
      "needs_background": "light"
     },
     "output_type": "display_data"
    },
    {
     "data": {
      "image/png": "[encoded data removed]",
      "text/plain": [
       "<Figure size 432x288 with 1 Axes>"
      ]
     },
     "metadata": {
      "needs_background": "light"
     },
     "output_type": "display_data"
    },
    {
     "data": {
      "image/png": "[encoded data removed]",
      "text/plain": [
       "<Figure size 432x288 with 1 Axes>"
      ]
     },
     "metadata": {
      "needs_background": "light"
     },
     "output_type": "display_data"
    },
    {
     "data": {
      "image/png": "[encoded data removed]",
      "text/plain": [
       "<Figure size 432x288 with 1 Axes>"
      ]
     },
     "metadata": {
      "needs_background": "light"
     },
     "output_type": "display_data"
    },
    {
     "data": {
      "image/png": "[encoded data removed]",
      "text/plain": [
       "<Figure size 432x288 with 1 Axes>"
      ]
     },
     "metadata": {
      "needs_background": "light"
     },
     "output_type": "display_data"
    },
    {
     "data": {
      "image/png": "[encoded data removed]",
      "text/plain": [
       "<Figure size 432x288 with 1 Axes>"
      ]
     },
     "metadata": {
      "needs_background": "light"
     },
     "output_type": "display_data"
    },
    {
     "data": {
      "image/png": "[encoded data removed]",
      "text/plain": [
       "<Figure size 432x288 with 1 Axes>"
      ]
     },
     "metadata": {
      "needs_background": "light"
     },
     "output_type": "display_data"
    },
    {
     "data": {
      "image/png": "[encoded data removed]",
      "text/plain": [
       "<Figure size 432x288 with 1 Axes>"
      ]
     },
     "metadata": {
      "needs_background": "light"
     },
     "output_type": "display_data"
    },
    {
     "data": {
      "image/png": "[encoded data removed]",
      "text/plain": [
       "<Figure size 432x288 with 1 Axes>"
      ]
     },
     "metadata": {
      "needs_background": "light"
     },
     "output_type": "display_data"
    },
    {
     "data": {
      "image/png": "[encoded data removed]",
      "text/plain": [
       "<Figure size 432x288 with 1 Axes>"
      ]
     },
     "metadata": {
      "needs_background": "light"
     },
     "output_type": "display_data"
    },
    {
     "data": {
      "image/png": "[encoded data removed]",
      "text/plain": [
       "<Figure size 432x288 with 1 Axes>"
      ]
     },
     "metadata": {
      "needs_background": "light"
     },
     "output_type": "display_data"
    },
    {
     "data": {
      "image/png": "[encoded data removed]",
      "text/plain": [
       "<Figure size 432x288 with 1 Axes>"
      ]
     },
     "metadata": {
      "needs_background": "light"
     },
     "output_type": "display_data"
    },
    {
     "data": {
      "image/png": "[encoded data removed]",
      "text/plain": [
       "<Figure size 432x288 with 1 Axes>"
      ]
     },
     "metadata": {
      "needs_background": "light"
     },
     "output_type": "display_data"
    },
    {
     "data": {
      "image/png": "[encoded data removed]",
      "text/plain": [
       "<Figure size 432x288 with 1 Axes>"
      ]
     },
     "metadata": {
      "needs_background": "light"
     },
     "output_type": "display_data"
    },
    {
     "data": {
      "image/png": "[encoded data removed]",
      "text/plain": [
       "<Figure size 432x288 with 1 Axes>"
      ]
     },
     "metadata": {
      "needs_background": "light"
     },
     "output_type": "display_data"
    },
    {
     "data": {
      "image/png": "[encoded data removed]",
      "text/plain": [
       "<Figure size 432x288 with 1 Axes>"
      ]
     },
     "metadata": {
      "needs_background": "light"
     },
     "output_type": "display_data"
    },
    {
     "data": {
      "image/png": "[encoded data removed]",
      "text/plain": [
       "<Figure size 432x288 with 1 Axes>"
      ]
     },
     "metadata": {
      "needs_background": "light"
     },
     "output_type": "display_data"
    },
    {
     "data": {
      "image/png": "[encoded data removed]",
      "text/plain": [
       "<Figure size 432x288 with 1 Axes>"
      ]
     },
     "metadata": {
      "needs_background": "light"
     },
     "output_type": "display_data"
    },
    {
     "data": {
      "image/png": "[encoded data removed]",
      "text/plain": [
       "<Figure size 432x288 with 1 Axes>"
      ]
     },
     "metadata": {
      "needs_background": "light"
     },
     "output_type": "display_data"
    },
    {
     "data": {
      "image/png": "[encoded data removed]",
      "text/plain": [
       "<Figure size 432x288 with 1 Axes>"
      ]
     },
     "metadata": {
      "needs_background": "light"
     },
     "output_type": "display_data"
    },
    {
     "data": {
      "image/png": "[encoded data removed]",
      "text/plain": [
       "<Figure size 432x288 with 1 Axes>"
      ]
     },
     "metadata": {
      "needs_background": "light"
     },
     "output_type": "display_data"
    },
    {
     "data": {
      "image/png": "[encoded data removed]",
      "text/plain": [
       "<Figure size 432x288 with 1 Axes>"
      ]
     },
     "metadata": {
      "needs_background": "light"
     },
     "output_type": "display_data"
    },
    {
     "data": {
      "image/png": "[encoded data removed]",
      "text/plain": [
       "<Figure size 432x288 with 1 Axes>"
      ]
     },
     "metadata": {
      "needs_background": "light"
     },
     "output_type": "display_data"
    }
   ],
   "source": [
    "# Checking for Outliers via visualization:\n",
    "for col in df.columns:\n",
    "    if df[col].dtype in [\"int64\",\"float64\"]:\n",
    "        plt.figure()\n",
    "        df.boxplot([col])\n",
    "        plt.show()"
   ]
  },
  {
   "cell_type": "code",
   "execution_count": 21,
   "id": "8e3b33d1",
   "metadata": {},
   "outputs": [],
   "source": [
    "# The Outliers have been dealt with."
   ]
  },
  {
   "cell_type": "code",
   "execution_count": 22,
   "id": "7b8e8149",
   "metadata": {},
   "outputs": [
    {
     "data": {
      "text/html": [
       "<div>\n",
       "<style scoped>\n",
       "    .dataframe tbody tr th:only-of-type {\n",
       "        vertical-align: middle;\n",
       "    }\n",
       "\n",
       "    .dataframe tbody tr th {\n",
       "        vertical-align: top;\n",
       "    }\n",
       "\n",
       "    .dataframe thead th {\n",
       "        text-align: right;\n",
       "    }\n",
       "</style>\n",
       "<table border=\"1\" class=\"dataframe\">\n",
       "  <thead>\n",
       "    <tr style=\"text-align: right;\">\n",
       "      <th></th>\n",
       "      <th>Id</th>\n",
       "      <th>Dwell_Type</th>\n",
       "      <th>Zone_Class</th>\n",
       "      <th>LotFrontage</th>\n",
       "      <th>LotArea</th>\n",
       "      <th>Road_Type</th>\n",
       "      <th>Property_Shape</th>\n",
       "      <th>LandContour</th>\n",
       "      <th>Utilities</th>\n",
       "      <th>LotConfig</th>\n",
       "      <th>...</th>\n",
       "      <th>EnclosedPorch</th>\n",
       "      <th>3SsnPorch</th>\n",
       "      <th>ScreenPorch</th>\n",
       "      <th>PoolArea</th>\n",
       "      <th>MiscVal</th>\n",
       "      <th>MoSold</th>\n",
       "      <th>YrSold</th>\n",
       "      <th>SaleType</th>\n",
       "      <th>SaleCondition</th>\n",
       "      <th>Property_Sale_Price</th>\n",
       "    </tr>\n",
       "  </thead>\n",
       "  <tbody>\n",
       "    <tr>\n",
       "      <th>0</th>\n",
       "      <td>1</td>\n",
       "      <td>60</td>\n",
       "      <td>3</td>\n",
       "      <td>65.0</td>\n",
       "      <td>8450</td>\n",
       "      <td>1</td>\n",
       "      <td>3</td>\n",
       "      <td>3</td>\n",
       "      <td>0</td>\n",
       "      <td>4</td>\n",
       "      <td>...</td>\n",
       "      <td>0</td>\n",
       "      <td>0</td>\n",
       "      <td>0</td>\n",
       "      <td>0</td>\n",
       "      <td>0</td>\n",
       "      <td>2</td>\n",
       "      <td>2008</td>\n",
       "      <td>8</td>\n",
       "      <td>4</td>\n",
       "      <td>208500</td>\n",
       "    </tr>\n",
       "    <tr>\n",
       "      <th>1</th>\n",
       "      <td>2</td>\n",
       "      <td>20</td>\n",
       "      <td>3</td>\n",
       "      <td>80.0</td>\n",
       "      <td>9600</td>\n",
       "      <td>1</td>\n",
       "      <td>3</td>\n",
       "      <td>3</td>\n",
       "      <td>0</td>\n",
       "      <td>2</td>\n",
       "      <td>...</td>\n",
       "      <td>0</td>\n",
       "      <td>0</td>\n",
       "      <td>0</td>\n",
       "      <td>0</td>\n",
       "      <td>0</td>\n",
       "      <td>5</td>\n",
       "      <td>2007</td>\n",
       "      <td>8</td>\n",
       "      <td>4</td>\n",
       "      <td>181500</td>\n",
       "    </tr>\n",
       "    <tr>\n",
       "      <th>2</th>\n",
       "      <td>3</td>\n",
       "      <td>60</td>\n",
       "      <td>3</td>\n",
       "      <td>68.0</td>\n",
       "      <td>11250</td>\n",
       "      <td>1</td>\n",
       "      <td>0</td>\n",
       "      <td>3</td>\n",
       "      <td>0</td>\n",
       "      <td>4</td>\n",
       "      <td>...</td>\n",
       "      <td>0</td>\n",
       "      <td>0</td>\n",
       "      <td>0</td>\n",
       "      <td>0</td>\n",
       "      <td>0</td>\n",
       "      <td>9</td>\n",
       "      <td>2008</td>\n",
       "      <td>8</td>\n",
       "      <td>4</td>\n",
       "      <td>223500</td>\n",
       "    </tr>\n",
       "    <tr>\n",
       "      <th>3</th>\n",
       "      <td>4</td>\n",
       "      <td>70</td>\n",
       "      <td>3</td>\n",
       "      <td>60.0</td>\n",
       "      <td>9550</td>\n",
       "      <td>1</td>\n",
       "      <td>0</td>\n",
       "      <td>3</td>\n",
       "      <td>0</td>\n",
       "      <td>0</td>\n",
       "      <td>...</td>\n",
       "      <td>272</td>\n",
       "      <td>0</td>\n",
       "      <td>0</td>\n",
       "      <td>0</td>\n",
       "      <td>0</td>\n",
       "      <td>2</td>\n",
       "      <td>2006</td>\n",
       "      <td>8</td>\n",
       "      <td>0</td>\n",
       "      <td>140000</td>\n",
       "    </tr>\n",
       "    <tr>\n",
       "      <th>4</th>\n",
       "      <td>5</td>\n",
       "      <td>60</td>\n",
       "      <td>3</td>\n",
       "      <td>84.0</td>\n",
       "      <td>14260</td>\n",
       "      <td>1</td>\n",
       "      <td>0</td>\n",
       "      <td>3</td>\n",
       "      <td>0</td>\n",
       "      <td>2</td>\n",
       "      <td>...</td>\n",
       "      <td>0</td>\n",
       "      <td>0</td>\n",
       "      <td>0</td>\n",
       "      <td>0</td>\n",
       "      <td>0</td>\n",
       "      <td>12</td>\n",
       "      <td>2008</td>\n",
       "      <td>8</td>\n",
       "      <td>4</td>\n",
       "      <td>250000</td>\n",
       "    </tr>\n",
       "  </tbody>\n",
       "</table>\n",
       "<p>5 rows × 76 columns</p>\n",
       "</div>"
      ],
      "text/plain": [
       "   Id  Dwell_Type  Zone_Class  LotFrontage  LotArea  Road_Type  \\\n",
       "0   1          60           3         65.0     8450          1   \n",
       "1   2          20           3         80.0     9600          1   \n",
       "2   3          60           3         68.0    11250          1   \n",
       "3   4          70           3         60.0     9550          1   \n",
       "4   5          60           3         84.0    14260          1   \n",
       "\n",
       "   Property_Shape  LandContour  Utilities  LotConfig  ...  EnclosedPorch  \\\n",
       "0               3            3          0          4  ...              0   \n",
       "1               3            3          0          2  ...              0   \n",
       "2               0            3          0          4  ...              0   \n",
       "3               0            3          0          0  ...            272   \n",
       "4               0            3          0          2  ...              0   \n",
       "\n",
       "   3SsnPorch  ScreenPorch  PoolArea  MiscVal  MoSold  YrSold  SaleType  \\\n",
       "0          0            0         0        0       2    2008         8   \n",
       "1          0            0         0        0       5    2007         8   \n",
       "2          0            0         0        0       9    2008         8   \n",
       "3          0            0         0        0       2    2006         8   \n",
       "4          0            0         0        0      12    2008         8   \n",
       "\n",
       "   SaleCondition  Property_Sale_Price  \n",
       "0              4               208500  \n",
       "1              4               181500  \n",
       "2              4               223500  \n",
       "3              0               140000  \n",
       "4              4               250000  \n",
       "\n",
       "[5 rows x 76 columns]"
      ]
     },
     "execution_count": 22,
     "metadata": {},
     "output_type": "execute_result"
    }
   ],
   "source": [
    "# Label Encoding on Catagorical columns:\n",
    "df_encoded=df.copy()\n",
    "for col in df_encoded.columns:\n",
    "    if df_encoded[col].dtype=='object':\n",
    "        df_encoded[col]=df_encoded[col].astype('category')\n",
    "        df_encoded[col]=df_encoded[col].cat.codes\n",
    "df_encoded.head()\n",
    "# Encoding done."
   ]
  },
  {
   "cell_type": "code",
   "execution_count": 23,
   "id": "0b086fa8",
   "metadata": {},
   "outputs": [
    {
     "data": {
      "text/html": [
       "<div>\n",
       "<style scoped>\n",
       "    .dataframe tbody tr th:only-of-type {\n",
       "        vertical-align: middle;\n",
       "    }\n",
       "\n",
       "    .dataframe tbody tr th {\n",
       "        vertical-align: top;\n",
       "    }\n",
       "\n",
       "    .dataframe thead th {\n",
       "        text-align: right;\n",
       "    }\n",
       "</style>\n",
       "<table border=\"1\" class=\"dataframe\">\n",
       "  <thead>\n",
       "    <tr style=\"text-align: right;\">\n",
       "      <th></th>\n",
       "      <th>Id</th>\n",
       "      <th>Dwell_Type</th>\n",
       "      <th>Zone_Class</th>\n",
       "      <th>LotFrontage</th>\n",
       "      <th>LotArea</th>\n",
       "      <th>Road_Type</th>\n",
       "      <th>Property_Shape</th>\n",
       "      <th>LandContour</th>\n",
       "      <th>Utilities</th>\n",
       "      <th>LotConfig</th>\n",
       "      <th>...</th>\n",
       "      <th>EnclosedPorch</th>\n",
       "      <th>3SsnPorch</th>\n",
       "      <th>ScreenPorch</th>\n",
       "      <th>PoolArea</th>\n",
       "      <th>MiscVal</th>\n",
       "      <th>MoSold</th>\n",
       "      <th>YrSold</th>\n",
       "      <th>SaleType</th>\n",
       "      <th>SaleCondition</th>\n",
       "      <th>Property_Sale_Price</th>\n",
       "    </tr>\n",
       "  </thead>\n",
       "  <tbody>\n",
       "    <tr>\n",
       "      <th>Id</th>\n",
       "      <td>1.000000</td>\n",
       "      <td>0.043299</td>\n",
       "      <td>0.008458</td>\n",
       "      <td>0.065354</td>\n",
       "      <td>0.004239</td>\n",
       "      <td>-0.009721</td>\n",
       "      <td>0.011917</td>\n",
       "      <td>-0.023843</td>\n",
       "      <td>0.002234</td>\n",
       "      <td>0.015773</td>\n",
       "      <td>...</td>\n",
       "      <td>0.001390</td>\n",
       "      <td>-0.045437</td>\n",
       "      <td>-0.004662</td>\n",
       "      <td>0.031310</td>\n",
       "      <td>-0.007308</td>\n",
       "      <td>0.000152</td>\n",
       "      <td>0.043669</td>\n",
       "      <td>0.002016</td>\n",
       "      <td>-0.012097</td>\n",
       "      <td>-0.002564</td>\n",
       "    </tr>\n",
       "    <tr>\n",
       "      <th>Dwell_Type</th>\n",
       "      <td>0.043299</td>\n",
       "      <td>1.000000</td>\n",
       "      <td>0.003652</td>\n",
       "      <td>-0.074715</td>\n",
       "      <td>-0.033410</td>\n",
       "      <td>-0.005410</td>\n",
       "      <td>0.003588</td>\n",
       "      <td>0.010733</td>\n",
       "      <td>-0.009664</td>\n",
       "      <td>0.029689</td>\n",
       "      <td>...</td>\n",
       "      <td>-0.006085</td>\n",
       "      <td>-0.011985</td>\n",
       "      <td>-0.011871</td>\n",
       "      <td>0.001617</td>\n",
       "      <td>-0.003824</td>\n",
       "      <td>-0.020480</td>\n",
       "      <td>0.018580</td>\n",
       "      <td>0.012242</td>\n",
       "      <td>0.005570</td>\n",
       "      <td>-0.017638</td>\n",
       "    </tr>\n",
       "    <tr>\n",
       "      <th>Zone_Class</th>\n",
       "      <td>0.008458</td>\n",
       "      <td>0.003652</td>\n",
       "      <td>1.000000</td>\n",
       "      <td>-0.069259</td>\n",
       "      <td>-0.040685</td>\n",
       "      <td>0.056924</td>\n",
       "      <td>0.056406</td>\n",
       "      <td>-0.001244</td>\n",
       "      <td>-0.001713</td>\n",
       "      <td>-0.015661</td>\n",
       "      <td>...</td>\n",
       "      <td>0.124720</td>\n",
       "      <td>-0.001637</td>\n",
       "      <td>0.029026</td>\n",
       "      <td>-0.002766</td>\n",
       "      <td>0.010008</td>\n",
       "      <td>-0.062044</td>\n",
       "      <td>0.018532</td>\n",
       "      <td>0.098269</td>\n",
       "      <td>-0.001902</td>\n",
       "      <td>-0.169328</td>\n",
       "    </tr>\n",
       "    <tr>\n",
       "      <th>LotFrontage</th>\n",
       "      <td>0.065354</td>\n",
       "      <td>-0.074715</td>\n",
       "      <td>-0.069259</td>\n",
       "      <td>1.000000</td>\n",
       "      <td>0.237312</td>\n",
       "      <td>-0.039517</td>\n",
       "      <td>-0.108325</td>\n",
       "      <td>-0.059968</td>\n",
       "      <td>-0.011478</td>\n",
       "      <td>-0.128353</td>\n",
       "      <td>...</td>\n",
       "      <td>-0.001335</td>\n",
       "      <td>0.036617</td>\n",
       "      <td>0.020745</td>\n",
       "      <td>0.112181</td>\n",
       "      <td>-0.003453</td>\n",
       "      <td>0.024125</td>\n",
       "      <td>0.021422</td>\n",
       "      <td>-0.025127</td>\n",
       "      <td>0.054731</td>\n",
       "      <td>0.268943</td>\n",
       "    </tr>\n",
       "    <tr>\n",
       "      <th>LotArea</th>\n",
       "      <td>0.004239</td>\n",
       "      <td>-0.033410</td>\n",
       "      <td>-0.040685</td>\n",
       "      <td>0.237312</td>\n",
       "      <td>1.000000</td>\n",
       "      <td>-0.144518</td>\n",
       "      <td>-0.138216</td>\n",
       "      <td>-0.143620</td>\n",
       "      <td>0.015066</td>\n",
       "      <td>-0.102939</td>\n",
       "      <td>...</td>\n",
       "      <td>-0.023194</td>\n",
       "      <td>0.010444</td>\n",
       "      <td>0.035586</td>\n",
       "      <td>0.062409</td>\n",
       "      <td>0.031199</td>\n",
       "      <td>-0.000814</td>\n",
       "      <td>-0.007590</td>\n",
       "      <td>0.005166</td>\n",
       "      <td>0.031903</td>\n",
       "      <td>0.211359</td>\n",
       "    </tr>\n",
       "    <tr>\n",
       "      <th>...</th>\n",
       "      <td>...</td>\n",
       "      <td>...</td>\n",
       "      <td>...</td>\n",
       "      <td>...</td>\n",
       "      <td>...</td>\n",
       "      <td>...</td>\n",
       "      <td>...</td>\n",
       "      <td>...</td>\n",
       "      <td>...</td>\n",
       "      <td>...</td>\n",
       "      <td>...</td>\n",
       "      <td>...</td>\n",
       "      <td>...</td>\n",
       "      <td>...</td>\n",
       "      <td>...</td>\n",
       "      <td>...</td>\n",
       "      <td>...</td>\n",
       "      <td>...</td>\n",
       "      <td>...</td>\n",
       "      <td>...</td>\n",
       "      <td>...</td>\n",
       "    </tr>\n",
       "    <tr>\n",
       "      <th>MoSold</th>\n",
       "      <td>0.000152</td>\n",
       "      <td>-0.020480</td>\n",
       "      <td>-0.062044</td>\n",
       "      <td>0.024125</td>\n",
       "      <td>-0.000814</td>\n",
       "      <td>0.007484</td>\n",
       "      <td>-0.042801</td>\n",
       "      <td>0.007962</td>\n",
       "      <td>-0.075047</td>\n",
       "      <td>0.004216</td>\n",
       "      <td>...</td>\n",
       "      <td>-0.026755</td>\n",
       "      <td>0.040580</td>\n",
       "      <td>0.007632</td>\n",
       "      <td>-0.018982</td>\n",
       "      <td>-0.004757</td>\n",
       "      <td>1.000000</td>\n",
       "      <td>-0.170176</td>\n",
       "      <td>-0.034011</td>\n",
       "      <td>0.016974</td>\n",
       "      <td>0.040808</td>\n",
       "    </tr>\n",
       "    <tr>\n",
       "      <th>YrSold</th>\n",
       "      <td>0.043669</td>\n",
       "      <td>0.018580</td>\n",
       "      <td>0.018532</td>\n",
       "      <td>0.021422</td>\n",
       "      <td>-0.007590</td>\n",
       "      <td>-0.049889</td>\n",
       "      <td>0.021992</td>\n",
       "      <td>0.034430</td>\n",
       "      <td>0.033031</td>\n",
       "      <td>-0.015213</td>\n",
       "      <td>...</td>\n",
       "      <td>0.017741</td>\n",
       "      <td>0.022393</td>\n",
       "      <td>0.022160</td>\n",
       "      <td>-0.059990</td>\n",
       "      <td>0.014425</td>\n",
       "      <td>-0.170176</td>\n",
       "      <td>1.000000</td>\n",
       "      <td>-0.011803</td>\n",
       "      <td>-0.006159</td>\n",
       "      <td>0.002475</td>\n",
       "    </tr>\n",
       "    <tr>\n",
       "      <th>SaleType</th>\n",
       "      <td>0.002016</td>\n",
       "      <td>0.012242</td>\n",
       "      <td>0.098269</td>\n",
       "      <td>-0.025127</td>\n",
       "      <td>0.005166</td>\n",
       "      <td>0.021438</td>\n",
       "      <td>0.001811</td>\n",
       "      <td>-0.031118</td>\n",
       "      <td>-0.177932</td>\n",
       "      <td>0.022972</td>\n",
       "      <td>...</td>\n",
       "      <td>-0.030463</td>\n",
       "      <td>-0.006700</td>\n",
       "      <td>-0.006788</td>\n",
       "      <td>0.011689</td>\n",
       "      <td>0.015546</td>\n",
       "      <td>-0.034011</td>\n",
       "      <td>-0.011803</td>\n",
       "      <td>1.000000</td>\n",
       "      <td>0.222418</td>\n",
       "      <td>-0.060016</td>\n",
       "    </tr>\n",
       "    <tr>\n",
       "      <th>SaleCondition</th>\n",
       "      <td>-0.012097</td>\n",
       "      <td>0.005570</td>\n",
       "      <td>-0.001902</td>\n",
       "      <td>0.054731</td>\n",
       "      <td>0.031903</td>\n",
       "      <td>-0.003201</td>\n",
       "      <td>-0.025609</td>\n",
       "      <td>0.021235</td>\n",
       "      <td>-0.126290</td>\n",
       "      <td>0.075051</td>\n",
       "      <td>...</td>\n",
       "      <td>-0.086838</td>\n",
       "      <td>0.015448</td>\n",
       "      <td>-0.035365</td>\n",
       "      <td>-0.063233</td>\n",
       "      <td>0.012256</td>\n",
       "      <td>0.016974</td>\n",
       "      <td>-0.006159</td>\n",
       "      <td>0.222418</td>\n",
       "      <td>1.000000</td>\n",
       "      <td>0.213629</td>\n",
       "    </tr>\n",
       "    <tr>\n",
       "      <th>Property_Sale_Price</th>\n",
       "      <td>-0.002564</td>\n",
       "      <td>-0.017638</td>\n",
       "      <td>-0.169328</td>\n",
       "      <td>0.268943</td>\n",
       "      <td>0.211359</td>\n",
       "      <td>0.054890</td>\n",
       "      <td>-0.259657</td>\n",
       "      <td>0.026345</td>\n",
       "      <td>-0.021154</td>\n",
       "      <td>-0.060520</td>\n",
       "      <td>...</td>\n",
       "      <td>-0.107769</td>\n",
       "      <td>0.052175</td>\n",
       "      <td>0.116009</td>\n",
       "      <td>0.081842</td>\n",
       "      <td>-0.019859</td>\n",
       "      <td>0.040808</td>\n",
       "      <td>0.002475</td>\n",
       "      <td>-0.060016</td>\n",
       "      <td>0.213629</td>\n",
       "      <td>1.000000</td>\n",
       "    </tr>\n",
       "  </tbody>\n",
       "</table>\n",
       "<p>76 rows × 76 columns</p>\n",
       "</div>"
      ],
      "text/plain": [
       "                           Id  Dwell_Type  Zone_Class  LotFrontage   LotArea  \\\n",
       "Id                   1.000000    0.043299    0.008458     0.065354  0.004239   \n",
       "Dwell_Type           0.043299    1.000000    0.003652    -0.074715 -0.033410   \n",
       "Zone_Class           0.008458    0.003652    1.000000    -0.069259 -0.040685   \n",
       "LotFrontage          0.065354   -0.074715   -0.069259     1.000000  0.237312   \n",
       "LotArea              0.004239   -0.033410   -0.040685     0.237312  1.000000   \n",
       "...                       ...         ...         ...          ...       ...   \n",
       "MoSold               0.000152   -0.020480   -0.062044     0.024125 -0.000814   \n",
       "YrSold               0.043669    0.018580    0.018532     0.021422 -0.007590   \n",
       "SaleType             0.002016    0.012242    0.098269    -0.025127  0.005166   \n",
       "SaleCondition       -0.012097    0.005570   -0.001902     0.054731  0.031903   \n",
       "Property_Sale_Price -0.002564   -0.017638   -0.169328     0.268943  0.211359   \n",
       "\n",
       "                     Road_Type  Property_Shape  LandContour  Utilities  \\\n",
       "Id                   -0.009721        0.011917    -0.023843   0.002234   \n",
       "Dwell_Type           -0.005410        0.003588     0.010733  -0.009664   \n",
       "Zone_Class            0.056924        0.056406    -0.001244  -0.001713   \n",
       "LotFrontage          -0.039517       -0.108325    -0.059968  -0.011478   \n",
       "LotArea              -0.144518       -0.138216    -0.143620   0.015066   \n",
       "...                        ...             ...          ...        ...   \n",
       "MoSold                0.007484       -0.042801     0.007962  -0.075047   \n",
       "YrSold               -0.049889        0.021992     0.034430   0.033031   \n",
       "SaleType              0.021438        0.001811    -0.031118  -0.177932   \n",
       "SaleCondition        -0.003201       -0.025609     0.021235  -0.126290   \n",
       "Property_Sale_Price   0.054890       -0.259657     0.026345  -0.021154   \n",
       "\n",
       "                     LotConfig  ...  EnclosedPorch  3SsnPorch  ScreenPorch  \\\n",
       "Id                    0.015773  ...       0.001390  -0.045437    -0.004662   \n",
       "Dwell_Type            0.029689  ...      -0.006085  -0.011985    -0.011871   \n",
       "Zone_Class           -0.015661  ...       0.124720  -0.001637     0.029026   \n",
       "LotFrontage          -0.128353  ...      -0.001335   0.036617     0.020745   \n",
       "LotArea              -0.102939  ...      -0.023194   0.010444     0.035586   \n",
       "...                        ...  ...            ...        ...          ...   \n",
       "MoSold                0.004216  ...      -0.026755   0.040580     0.007632   \n",
       "YrSold               -0.015213  ...       0.017741   0.022393     0.022160   \n",
       "SaleType              0.022972  ...      -0.030463  -0.006700    -0.006788   \n",
       "SaleCondition         0.075051  ...      -0.086838   0.015448    -0.035365   \n",
       "Property_Sale_Price  -0.060520  ...      -0.107769   0.052175     0.116009   \n",
       "\n",
       "                     PoolArea   MiscVal    MoSold    YrSold  SaleType  \\\n",
       "Id                   0.031310 -0.007308  0.000152  0.043669  0.002016   \n",
       "Dwell_Type           0.001617 -0.003824 -0.020480  0.018580  0.012242   \n",
       "Zone_Class          -0.002766  0.010008 -0.062044  0.018532  0.098269   \n",
       "LotFrontage          0.112181 -0.003453  0.024125  0.021422 -0.025127   \n",
       "LotArea              0.062409  0.031199 -0.000814 -0.007590  0.005166   \n",
       "...                       ...       ...       ...       ...       ...   \n",
       "MoSold              -0.018982 -0.004757  1.000000 -0.170176 -0.034011   \n",
       "YrSold              -0.059990  0.014425 -0.170176  1.000000 -0.011803   \n",
       "SaleType             0.011689  0.015546 -0.034011 -0.011803  1.000000   \n",
       "SaleCondition       -0.063233  0.012256  0.016974 -0.006159  0.222418   \n",
       "Property_Sale_Price  0.081842 -0.019859  0.040808  0.002475 -0.060016   \n",
       "\n",
       "                     SaleCondition  Property_Sale_Price  \n",
       "Id                       -0.012097            -0.002564  \n",
       "Dwell_Type                0.005570            -0.017638  \n",
       "Zone_Class               -0.001902            -0.169328  \n",
       "LotFrontage               0.054731             0.268943  \n",
       "LotArea                   0.031903             0.211359  \n",
       "...                            ...                  ...  \n",
       "MoSold                    0.016974             0.040808  \n",
       "YrSold                   -0.006159             0.002475  \n",
       "SaleType                  0.222418            -0.060016  \n",
       "SaleCondition             1.000000             0.213629  \n",
       "Property_Sale_Price       0.213629             1.000000  \n",
       "\n",
       "[76 rows x 76 columns]"
      ]
     },
     "execution_count": 23,
     "metadata": {},
     "output_type": "execute_result"
    }
   ],
   "source": [
    "# Checking for data Correlation:\n",
    "df_encoded.corr()"
   ]
  },
  {
   "cell_type": "code",
   "execution_count": 24,
   "id": "97235e30",
   "metadata": {},
   "outputs": [
    {
     "data": {
      "text/plain": [
       "<AxesSubplot:>"
      ]
     },
     "execution_count": 24,
     "metadata": {},
     "output_type": "execute_result"
    },
    {
     "data": {
      "image/png": "[encoded data removed]",
      "text/plain": [
       "<Figure size 432x288 with 2 Axes>"
      ]
     },
     "metadata": {
      "needs_background": "light"
     },
     "output_type": "display_data"
    }
   ],
   "source": [
    "# Visualization of data correlation of original data:\n",
    "sns.heatmap(df.corr(),yticklabels=False,cmap='viridis')"
   ]
  },
  {
   "cell_type": "code",
   "execution_count": 25,
   "id": "5cdc8a46",
   "metadata": {},
   "outputs": [
    {
     "data": {
      "text/plain": [
       "<AxesSubplot:>"
      ]
     },
     "execution_count": 25,
     "metadata": {},
     "output_type": "execute_result"
    },
    {
     "data": {
      "image/png": "[encoded data removed]",
      "text/plain": [
       "<Figure size 1440x1440 with 2 Axes>"
      ]
     },
     "metadata": {
      "needs_background": "light"
     },
     "output_type": "display_data"
    }
   ],
   "source": [
    "# Visualization of data correlation of labeled encoded data:\n",
    "plt.figure(figsize=(20,20))\n",
    "sns.heatmap(df_encoded.corr(),yticklabels=False,cmap='viridis')"
   ]
  },
  {
   "cell_type": "code",
   "execution_count": 26,
   "id": "acaa2a67",
   "metadata": {},
   "outputs": [],
   "source": [
    "# DataFrame has a unique form of correlation."
   ]
  },
  {
   "cell_type": "code",
   "execution_count": 27,
   "id": "49896d48",
   "metadata": {},
   "outputs": [
    {
     "data": {
      "image/png": "[encoded data removed]",
      "text/plain": [
       "<Figure size 1440x1440 with 81 Axes>"
      ]
     },
     "metadata": {
      "needs_background": "light"
     },
     "output_type": "display_data"
    }
   ],
   "source": [
    "# Visualization of features to check the spread of data:\n",
    "fig = df_encoded.hist(figsize = (20,20),color=\"brown\")"
   ]
  },
  {
   "cell_type": "code",
   "execution_count": 28,
   "id": "a7bb38d3",
   "metadata": {},
   "outputs": [],
   "source": [
    "# All columns/features have a unique form of spread, few feature have similar spread of data this represents the correlation between them."
   ]
  },
  {
   "cell_type": "code",
   "execution_count": 29,
   "id": "32189f23",
   "metadata": {},
   "outputs": [],
   "source": [
    "# 4. Data Spliting:"
   ]
  },
  {
   "cell_type": "code",
   "execution_count": 34,
   "id": "ec188d02",
   "metadata": {},
   "outputs": [],
   "source": [
    "# Data splitting\n",
    "x=df_encoded.drop(labels=['Id','Property_Sale_Price'],axis=1)\n",
    "y=df_encoded[['Property_Sale_Price']]"
   ]
  },
  {
   "cell_type": "code",
   "execution_count": 35,
   "id": "e12014b4",
   "metadata": {},
   "outputs": [],
   "source": [
    "# 5. Linear Regression Model Build:"
   ]
  },
  {
   "cell_type": "code",
   "execution_count": 36,
   "id": "188705e6",
   "metadata": {},
   "outputs": [],
   "source": [
    "lr=LinearRegression()"
   ]
  },
  {
   "cell_type": "code",
   "execution_count": 37,
   "id": "2dc09208",
   "metadata": {},
   "outputs": [],
   "source": [
    "# #6.1 Without Scaling:\n"
   ]
  },
  {
   "cell_type": "code",
   "execution_count": 38,
   "id": "05538601",
   "metadata": {},
   "outputs": [],
   "source": [
    "# Train & Test Spliting\n",
    "x_train,x_test,y_train,y_test=train_test_split(x, y, test_size=0.25, random_state=0)"
   ]
  },
  {
   "cell_type": "code",
   "execution_count": 39,
   "id": "cfc4d876",
   "metadata": {},
   "outputs": [
    {
     "data": {
      "text/plain": [
       "LinearRegression()"
      ]
     },
     "execution_count": 39,
     "metadata": {},
     "output_type": "execute_result"
    }
   ],
   "source": [
    "# Model Fitting\n",
    "lr.fit(x_train, y_train)"
   ]
  },
  {
   "cell_type": "code",
   "execution_count": 40,
   "id": "bcc6ed43",
   "metadata": {},
   "outputs": [
    {
     "name": "stdout",
     "output_type": "stream",
     "text": [
      "Train Score: 0.8439907787530028\n",
      "Test Score:  0.8645462117621785\n"
     ]
    }
   ],
   "source": [
    "# Accuracy Testing\n",
    "lrtr=lr.score(x_train,y_train)\n",
    "print('Train Score:',lrtr)\n",
    "lrte=lr.score(x_test,y_test)\n",
    "print('Test Score: ',lrte)"
   ]
  },
  {
   "cell_type": "code",
   "execution_count": 41,
   "id": "2cfd85b3",
   "metadata": {},
   "outputs": [],
   "source": [
    "# We have got a decent score for both training and testing data without scaling, we have to check with scaled technique."
   ]
  },
  {
   "cell_type": "code",
   "execution_count": 42,
   "id": "2049225a",
   "metadata": {},
   "outputs": [],
   "source": [
    "# #6.2 With Standard Scaling:"
   ]
  },
  {
   "cell_type": "code",
   "execution_count": 43,
   "id": "e9ba1c8c",
   "metadata": {},
   "outputs": [
    {
     "data": {
      "text/plain": [
       "array([[-3.61147693e-03, -4.48636534e-02, -2.61709530e-01, ...,\n",
       "         1.11861922e-01,  3.14797432e-01,  2.22289500e-01],\n",
       "       [-2.53054645e-01, -4.48636534e-02,  3.21040666e-01, ...,\n",
       "        -6.41195461e-01,  3.14797432e-01,  2.22289500e-01],\n",
       "       [-3.61147693e-03, -4.48636534e-02, -1.45159490e-01, ...,\n",
       "         1.11861922e-01,  3.14797432e-01,  2.22289500e-01],\n",
       "       ...,\n",
       "       [ 1.83470899e-01, -4.48636534e-02,  9.37309370e+00, ...,\n",
       "        -6.41195461e-01,  3.14797432e-01,  2.22289500e-01],\n",
       "       [-2.53054645e-01, -4.48636534e-02, -7.66759699e-01, ...,\n",
       "         8.64919305e-01, -4.65918309e+00, -3.30693108e+00],\n",
       "       [-6.59722688e-02,  1.49545511e+00,  1.02034090e+00, ...,\n",
       "         8.64919305e-01,  3.14797432e-01,  2.22289500e-01]])"
      ]
     },
     "execution_count": 43,
     "metadata": {},
     "output_type": "execute_result"
    }
   ],
   "source": [
    "# Standard Scaling\n",
    "scaler=StandardScaler()\n",
    "x_scaled=scaler.fit_transform(x)\n",
    "x_scaled\n"
   ]
  },
  {
   "cell_type": "code",
   "execution_count": 44,
   "id": "620c3269",
   "metadata": {},
   "outputs": [],
   "source": [
    "# Train & Test Spliting\n",
    "x_train,x_test,y_train,y_test=train_test_split(x_scaled, y, test_size=0.25, random_state=0)"
   ]
  },
  {
   "cell_type": "code",
   "execution_count": 45,
   "id": "dcec2751",
   "metadata": {},
   "outputs": [
    {
     "data": {
      "text/plain": [
       "LinearRegression()"
      ]
     },
     "execution_count": 45,
     "metadata": {},
     "output_type": "execute_result"
    }
   ],
   "source": [
    "# Model Fitting\n",
    "lr.fit(x_train, y_train)"
   ]
  },
  {
   "cell_type": "code",
   "execution_count": 46,
   "id": "9afa94da",
   "metadata": {},
   "outputs": [
    {
     "name": "stdout",
     "output_type": "stream",
     "text": [
      "Train Score: 0.843997515656939\n",
      "Test Score:  0.8646149504854902\n"
     ]
    }
   ],
   "source": [
    "# Accuracy Testing\n",
    "lrtrs=lr.score(x_train,y_train)\n",
    "print('Train Score:',lrtrs)\n",
    "lrtes=lr.score(x_test,y_test)\n",
    "print('Test Score: ',lrtes)"
   ]
  },
  {
   "cell_type": "code",
   "execution_count": 47,
   "id": "13837d72",
   "metadata": {},
   "outputs": [],
   "source": [
    "# We have got a decent similar score for both training and testing data with and without scaling, we have to check with other scaled technique."
   ]
  },
  {
   "cell_type": "code",
   "execution_count": 48,
   "id": "f757f302",
   "metadata": {},
   "outputs": [],
   "source": [
    "# #6.3 With Min Max Scaling:"
   ]
  },
  {
   "cell_type": "code",
   "execution_count": 49,
   "id": "d1c4e546",
   "metadata": {},
   "outputs": [
    {
     "data": {
      "text/plain": [
       "array([[0.00566572, 0.75      , 0.15068493, ..., 0.5       , 1.        ,\n",
       "        0.8       ],\n",
       "       [0.        , 0.75      , 0.20205479, ..., 0.25      , 1.        ,\n",
       "        0.8       ],\n",
       "       [0.00566572, 0.75      , 0.1609589 , ..., 0.5       , 1.        ,\n",
       "        0.8       ],\n",
       "       ...,\n",
       "       [0.00991501, 0.75      , 1.        , ..., 0.25      , 1.        ,\n",
       "        0.8       ],\n",
       "       [0.        , 0.75      , 0.10616438, ..., 0.75      , 0.        ,\n",
       "        0.        ],\n",
       "       [0.00424929, 1.        , 0.26369863, ..., 0.75      , 1.        ,\n",
       "        0.8       ]])"
      ]
     },
     "execution_count": 49,
     "metadata": {},
     "output_type": "execute_result"
    }
   ],
   "source": [
    "# Min Max Scaling\n",
    "scaler=MinMaxScaler()\n",
    "x_scaled=scaler.fit_transform(x)\n",
    "x_scaled\n"
   ]
  },
  {
   "cell_type": "code",
   "execution_count": 50,
   "id": "9df34e81",
   "metadata": {},
   "outputs": [],
   "source": [
    "# Train & Test Spliting\n",
    "x_train,x_test,y_train,y_test=train_test_split(x_scaled, y, test_size=0.25, random_state=0)"
   ]
  },
  {
   "cell_type": "code",
   "execution_count": 51,
   "id": "14ba2350",
   "metadata": {},
   "outputs": [
    {
     "data": {
      "text/plain": [
       "LinearRegression()"
      ]
     },
     "execution_count": 51,
     "metadata": {},
     "output_type": "execute_result"
    }
   ],
   "source": [
    "# Model Fitting\n",
    "lr.fit(x_train, y_train)"
   ]
  },
  {
   "cell_type": "code",
   "execution_count": 52,
   "id": "45c00be7",
   "metadata": {},
   "outputs": [
    {
     "name": "stdout",
     "output_type": "stream",
     "text": [
      "Train Score: 0.8439986763614346\n",
      "Test Score:  0.8644986345399364\n"
     ]
    }
   ],
   "source": [
    "# Accuracy Testing\n",
    "lrtrm=lr.score(x_train,y_train)\n",
    "print('Train Score:',lrtrm)\n",
    "lrtem=lr.score(x_test,y_test)\n",
    "print('Test Score: ',lrtem)"
   ]
  },
  {
   "cell_type": "code",
   "execution_count": 53,
   "id": "83a47cf7",
   "metadata": {},
   "outputs": [],
   "source": [
    "# We have got a decent similar score for both training and testing data with and without scaling, we have to check with other scaled technique."
   ]
  },
  {
   "cell_type": "code",
   "execution_count": 54,
   "id": "45feeed1",
   "metadata": {},
   "outputs": [],
   "source": [
    "# #6.4 With Robust Scaling:"
   ]
  },
  {
   "cell_type": "code",
   "execution_count": 55,
   "id": "3e2276c5",
   "metadata": {},
   "outputs": [
    {
     "data": {
      "text/plain": [
       "array([[ 0.2 ,  0.  , -0.25, ...,  0.  ,  0.  ,  0.  ],\n",
       "       [-0.6 ,  0.  ,  0.5 , ..., -0.5 ,  0.  ,  0.  ],\n",
       "       [ 0.2 ,  0.  , -0.1 , ...,  0.  ,  0.  ,  0.  ],\n",
       "       ...,\n",
       "       [ 0.8 ,  0.  , 12.15, ..., -0.5 ,  0.  ,  0.  ],\n",
       "       [-0.6 ,  0.  , -0.9 , ...,  0.5 , -8.  , -4.  ],\n",
       "       [ 0.  ,  1.  ,  1.4 , ...,  0.5 ,  0.  ,  0.  ]])"
      ]
     },
     "execution_count": 55,
     "metadata": {},
     "output_type": "execute_result"
    }
   ],
   "source": [
    "# Robust Scaling\n",
    "scaler=RobustScaler()\n",
    "x_scaled=scaler.fit_transform(x)\n",
    "x_scaled"
   ]
  },
  {
   "cell_type": "code",
   "execution_count": 56,
   "id": "58a68200",
   "metadata": {},
   "outputs": [],
   "source": [
    "# Train & Test Spliting\n",
    "x_train,x_test,y_train,y_test=train_test_split(x_scaled, y, test_size=0.25, random_state=0)"
   ]
  },
  {
   "cell_type": "code",
   "execution_count": 57,
   "id": "e874332c",
   "metadata": {},
   "outputs": [
    {
     "data": {
      "text/plain": [
       "LinearRegression()"
      ]
     },
     "execution_count": 57,
     "metadata": {},
     "output_type": "execute_result"
    }
   ],
   "source": [
    "# Model Fitting\n",
    "lr.fit(x_train, y_train)"
   ]
  },
  {
   "cell_type": "code",
   "execution_count": 58,
   "id": "2c2adea5",
   "metadata": {},
   "outputs": [
    {
     "name": "stdout",
     "output_type": "stream",
     "text": [
      "Train Score: 0.8439907787530028\n",
      "Test Score:  0.8645462117621672\n"
     ]
    }
   ],
   "source": [
    "# Accuracy Testing\n",
    "lrtrr=lr.score(x_train,y_train)\n",
    "print('Train Score:',lrtrr)\n",
    "lrter=lr.score(x_test,y_test)\n",
    "print('Test Score: ',lrter)"
   ]
  },
  {
   "cell_type": "code",
   "execution_count": 59,
   "id": "5f034c79",
   "metadata": {},
   "outputs": [],
   "source": [
    "# We have got a decent similar score for both training and testing data with and without scaling, we will see the difference between them in the conclusion segment."
   ]
  },
  {
   "cell_type": "code",
   "execution_count": 60,
   "id": "9aef066f",
   "metadata": {},
   "outputs": [],
   "source": [
    "# 7. Conclusion:"
   ]
  },
  {
   "cell_type": "code",
   "execution_count": 61,
   "id": "76523383",
   "metadata": {},
   "outputs": [
    {
     "name": "stdout",
     "output_type": "stream",
     "text": [
      "Linear Regression Model Without Scaling:\n",
      "Train Score: 0.8439907787530028\n",
      "Test Score:  0.8645462117621785\n",
      "Linear Regression Model With Standard Scaling:\n",
      "Train Score: 0.843997515656939\n",
      "Test Score:  0.8646149504854902\n",
      "Linear Regression Model With Min Max Scaling:\n",
      "Train Score: 0.8439986763614346\n",
      "Test Score:  0.8644986345399364\n",
      "Linear Regression Model With Robust Scaling:\n",
      "Train Score: 0.8439907787530028\n",
      "Test Score:  0.8645462117621672\n"
     ]
    }
   ],
   "source": [
    "print('Linear Regression Model Without Scaling:')\n",
    "print('Train Score:',lrtr)\n",
    "print('Test Score: ',lrte)\n",
    "print('Linear Regression Model With Standard Scaling:')\n",
    "print('Train Score:',lrtrs)\n",
    "print('Test Score: ',lrtes)\n",
    "print('Linear Regression Model With Min Max Scaling:')\n",
    "print('Train Score:',lrtrm)\n",
    "print('Test Score: ',lrtem)\n",
    "print('Linear Regression Model With Robust Scaling:')\n",
    "print('Train Score:',lrtrr)\n",
    "print('Test Score: ',lrter)"
   ]
  },
  {
   "cell_type": "code",
   "execution_count": 62,
   "id": "aa6545ed",
   "metadata": {},
   "outputs": [],
   "source": [
    "# Conclusion:\n",
    "# Models with and without scaling shows more over the same score so we can go ahead with the Linear Regression OLS model without scaling because it's simple and efficient."
   ]
  },
  {
   "cell_type": "code",
   "execution_count": null,
   "id": "733db8ab",
   "metadata": {},
   "outputs": [],
   "source": []
  },
  {
   "cell_type": "code",
   "execution_count": null,
   "id": "93b41b4f",
   "metadata": {},
   "outputs": [],
   "source": []
  },
  {
   "cell_type": "code",
   "execution_count": null,
   "id": "ff1979ba",
   "metadata": {},
   "outputs": [],
   "source": []
  },
  {
   "cell_type": "code",
   "execution_count": null,
   "id": "5249777f",
   "metadata": {},
   "outputs": [],
   "source": []
  },
  {
   "cell_type": "code",
   "execution_count": null,
   "id": "7efe017c",
   "metadata": {},
   "outputs": [],
   "source": []
  },
  {
   "cell_type": "code",
   "execution_count": null,
   "id": "8dbd2eba",
   "metadata": {},
   "outputs": [],
   "source": []
  },
  {
   "cell_type": "code",
   "execution_count": null,
   "id": "6e92b281",
   "metadata": {},
   "outputs": [],
   "source": []
  },
  {
   "cell_type": "code",
   "execution_count": null,
   "id": "d12939a6",
   "metadata": {},
   "outputs": [],
   "source": []
  },
  {
   "cell_type": "code",
   "execution_count": null,
   "id": "3484d0f9",
   "metadata": {},
   "outputs": [],
   "source": []
  },
  {
   "cell_type": "code",
   "execution_count": null,
   "id": "bb24ef58",
   "metadata": {},
   "outputs": [],
   "source": []
  },
  {
   "cell_type": "code",
   "execution_count": null,
   "id": "6573642a",
   "metadata": {},
   "outputs": [],
   "source": []
  }
 ],
 "metadata": {
  "kernelspec": {
   "display_name": "Python 3 (ipykernel)",
   "language": "python",
   "name": "python3"
  },
  "language_info": {
   "codemirror_mode": {
    "name": "ipython",
    "version": 3
   },
   "file_extension": ".py",
   "mimetype": "text/x-python",
   "name": "python",
   "nbconvert_exporter": "python",
   "pygments_lexer": "ipython3",
   "version": "3.9.12"
  }
 },
 "nbformat": 4,
 "nbformat_minor": 5
}
